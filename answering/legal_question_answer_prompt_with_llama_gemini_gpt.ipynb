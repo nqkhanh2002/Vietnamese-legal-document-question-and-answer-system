{
  "cells": [
    {
      "cell_type": "markdown",
      "metadata": {
        "id": "RYPoVvz2XHJX"
      },
      "source": [
        "# Data"
      ]
    },
    {
      "cell_type": "code",
      "execution_count": 1,
      "metadata": {
        "colab": {
          "base_uri": "https://localhost:8080/"
        },
        "id": "wYyyIliZXkDQ",
        "outputId": "61171d1b-0b15-480b-999b-b8ef52c79ec6"
      },
      "outputs": [
        {
          "name": "stdout",
          "output_type": "stream",
          "text": [
            "Mounted at /content/drive\n"
          ]
        }
      ],
      "source": [
        "from google.colab import drive\n",
        "drive.mount('/content/drive')"
      ]
    },
    {
      "cell_type": "code",
      "execution_count": 5,
      "metadata": {
        "id": "PFrloHXqXHJY",
        "trusted": true
      },
      "outputs": [],
      "source": [
        "import json\n",
        "with open('/content/drive/MyDrive/Colab Notebooks/ALQAC/law.json') as f:\n",
        "    law = json.load(f)\n",
        "# with open('/content/drive/MyDrive/Colab Notebooks/ALQAC/train.json') as f:\n",
        "#     data = json.load(f)\n",
        "with open('/content/drive/MyDrive/Colab Notebooks/ALQAC/private_test_TASK_1.json') as f:\n",
        "    question = json.load(f)\n",
        "with open('/content/drive/MyDrive/Colab Notebooks/ALQAC/gold_prv_24.json') as f:\n",
        "    article = json.load(f)\n",
        "with open('/content/drive/MyDrive/Colab Notebooks/ALQAC/submit_2.json') as f:\n",
        "    answer = json.load(f)\n",
        "with open(\"/content/drive/MyDrive/Colab Notebooks/ALQAC/predict_top10_private_2024 (1).json\") as f:\n",
        "    predict = json.load(f)\n",
        "# with open('/kaggle/input/prompt-legal/prompts.json') as f:\n",
        "#     prompts = json.load(f)"
      ]
    },
    {
      "cell_type": "code",
      "execution_count": 6,
      "metadata": {
        "id": "RcEY_WzdFC3v"
      },
      "outputs": [],
      "source": [
        "#merge question, article and answer as a data\n",
        "data = []\n",
        "for i in range(len(question)):\n",
        "    data.append({\n",
        "        \"question_id\": question[i]['question_id'],\n",
        "        \"question_type\": question[i]['question_type'],\n",
        "        \"text\": question[i]['text'],\n",
        "        # \"choices\": question[i]['choices'],\n",
        "        \"answer\": answer[i]['answer'],\n",
        "        \"relevant_articles\": article[i]['relevant_articles']\n",
        "    })\n",
        "    if question[i]['question_type'] == 'Trắc nghiệm':\n",
        "        data[i]['choices'] = question[i]['choices']"
      ]
    },
    {
      "cell_type": "code",
      "execution_count": 62,
      "metadata": {
        "id": "2Ius_pZcUJgm"
      },
      "outputs": [],
      "source": [
        "for i in range(len(data)):\n",
        "  #find where id predict == id data[i]\n",
        "  id = data[i]['question_id']\n",
        "  for j in range(len(predict)):\n",
        "    if predict[j]['question_id'] == id:\n",
        "      data[i]['predict_relevant_articles'] = predict[j]['predict_relevant_articles']\n",
        "      break\n",
        "  # data[i]['predict_relevant_articles'] = predict[i]['predict_relevant_articles']"
      ]
    },
    {
      "cell_type": "code",
      "execution_count": 46,
      "metadata": {
        "colab": {
          "base_uri": "https://localhost:8080/"
        },
        "id": "IvZ5UhmhUP_q",
        "outputId": "788386c6-9e52-4f94-e160-a2051c17b743"
      },
      "outputs": [
        {
          "name": "stdout",
          "output_type": "stream",
          "text": [
            "{'question_id': '04-DS-1', 'question_type': 'Đúng/Sai', 'text': 'Trong nguyên tắc về quản lý viên chức, việc tuyển dụng, sử dụng, quản lý, đánh giá viên chức được thực hiện trên cơ sở tiêu chuẩn chức danh nghề nghiệp, vị trí việc làm và căn cứ vào hợp đồng làm việc là đúng hay sai?', 'answer': 'Đúng', 'relevant_articles': [{'law_id': 'Luật Viên chức', 'article_id': '6', 'content': 'Các nguyên tắc quản lý viên chức\\n\\n1. Bảo đảm sự lãnh đạo của Đảng Cộng sản Việt Nam và sự thống nhất quản lý của Nhà nước.\\n\\n2. Bảo đảm quyền chủ động và đề cao trách nhiệm của người đứng đầu đơn vị sự nghiệp công lập.\\n\\n3. Việc tuyển dụng, sử dụng, quản lý, đánh giá viên chức được thực hiện trên cơ sở tiêu chuẩn chức danh nghề nghiệp, vị trí việc làm và căn cứ vào hợp đồng làm việc.\\n\\n4. Thực hiện bình đẳng giới, các chính sách ưu đãi của Nhà nước đối với viên chức là người có tài năng, người dân tộc thiểu số, người có công với cách mạng, viên chức làm việc ở miền núi, biên giới, hải đảo, vùng sâu, vùng xa, vùng dân tộc thiểu số, vùng có điều kiện kinh tế - xã hội đặc biệt khó khăn và các chính sách ưu đãi khác của Nhà nước đối với viên chức.'}], 'predict_relevant_articles': [{'law_id': 'Luật Viên chức', 'article_id': '6', 'content': 'Các nguyên tắc quản lý viên chức 1. Bảo đảm sự lãnh đạo của Đảng Cộng sản Việt Nam và sự thống nhất quản lý của Nhà nước. 2. Bảo đảm quyền chủ động và đề cao trách nhiệm của người đứng đầu đơn vị sự nghiệp công lập. 3. Việc tuyển dụng, sử dụng, quản lý, đánh giá viên chức được thực hiện trên cơ sở tiêu chuẩn chức danh nghề nghiệp, vị trí việc làm và căn cứ vào hợp đồng làm việc. 4. Thực hiện bình đẳng giới, các chính sách ưu đãi của Nhà nước đối với viên chức là người có tài năng, người dân tộc thiểu số, người có công với cách mạng, viên chức làm việc ở miền núi, biên giới, hải đảo, vùng sâu, vùng xa, vùng dân tộc thiểu số, vùng có điều kiện kinh tế - xã hội đặc biệt khó khăn và các chính sách ưu đãi khác của Nhà nước đối với viên chức.'}, {'law_id': 'Luật Viên chức', 'article_id': '48', 'content': 'Quản lý viên chức 1. Nội dung quản lý viên chức bao gồm: a) Xây dựng vị trí việc làm; b) Tuyển dụng viên chức; c) Ký hợp đồng làm việc; d) Bổ nhiệm, thay đổi chức danh nghề nghiệp; đ) Thay đổi vị trí việc làm, biệt phái, chấm dứt hợp đồng làm việc, giải quyết chế độ thôi việc; e) Bổ nhiệm, miễn nhiệm viên chức quản lý; sắp xếp, bố trí và sử dụng viên chức theo nhu cầu công việc; g) Thực hiện việc đánh giá, khen thưởng, kỷ Luật Viên chức; h) Thực hiện chế độ tiền lương, các chính sách đãi ngộ, chế độ đào tạo, bồi dưỡng viên chức; i) Lập, quản lý hồ sơ viên chức; thực hiện chế độ báo cáo về quản lý viên chức thuộc phạm vi quản lý. 2. Đơn vị sự nghiệp công lập được giao quyền tự chủ thực hiện các nội dung quản lý quy định tại khoản 1 Điều này. Người đứng đầu đơn vị sự nghiệp công lập chịu trách nhiệm báo cáo cấp trên về tình hình quản lý, sử dụng viên chức tại đơn vị. 3. Đối với đơn vị sự nghiệp công lập chưa được giao quyền tự chủ, cơ quan có thẩm quyền quản lý đơn vị sự nghiệp công lập thực hiện quản lý viên chức hoặc phân cấp thực hiện các nội dung quản lý quy định tại khoản 1 Điều này cho đơn vị sự nghiệp công lập được giao quản lý. 4. Chính phủ quy định chi tiết Điều này.'}, {'law_id': 'Luật Viên chức', 'article_id': '40', 'content': 'Căn cứ đánh giá viên chức Việc đánh giá viên chức được thực hiện dựa trên các căn cứ sau: 1. Các cam kết trong hợp đồng làm việc đã ký kết; 2. Quy định về đạo đức nghề nghiệp, quy tắc ứng xứ của viên chức.'}, {'law_id': 'Luật Viên chức', 'article_id': '20', 'content': 'Căn cứ tuyển dụng Việc tuyển dụng viên chức phải căn cứ vào nhu cầu công việc, vị trí việc làm, tiêu chuẩn chức danh nghề nghiệp và quỹ tiền lương của đơn vị sự nghiệp công lập.'}, {'law_id': 'Luật Viên chức', 'article_id': '41', 'content': 'Nội dung đánh giá viên chức 1. Việc đánh giá viên chức được xem xét theo các nội dung sau: a) Kết quả thực hiện công việc hoặc nhiệm vụ theo hợp đồng làm việc đã ký kết; b) Việc thực hiện quy định về đạo đức nghề nghiệp; c) Tinh thần trách nhiệm, thái độ phục vụ nhân dân, tinh thần hợp tác với đồng nghiệp và việc thực hiện quy tắc ứng xử của viên chức; d) Việc thực hiện các nghĩa vụ khác của viên chức. 2. Việc đánh giá viên chức quản lý được xem xét theo các nội dung quy định tại khoản 1 Điều này và các nội dung sau: a) Năng lực lãnh đạo, quản lý, điều hành và tổ chức thực hiện nhiệm vụ; b) Kết quả hoạt động của đơn vị được giao quản lý, phụ trách. 3. Việc đánh giá viên chức được thực hiện hàng năm; khi kết thúc thời gian tập sự; trước khi ký tiếp hợp đồng làm việc; thay đổi vị trí việc làm; xét khen thưởng, kỷ luật, bổ nhiệm, bổ nhiệm lại, quy hoạch, đào tạo, bồi đường.'}, {'law_id': 'Luật Viên chức', 'article_id': '2', 'content': 'Viên chức Viên chức là công dân Việt Nam được tuyển dụng theo vị trí việc làm, làm việc tại đơn vị sự nghiệp công lập theo chế độ hợp đồng làm việc, hưởng lương từ quỹ lương của đơn vị sự nghiệp công lập theo quy định của pháp luật.'}, {'law_id': 'Luật Giáo dục', 'article_id': '104', 'content': 'Nội dung quản lý nhà nước về giáo dục 1. Xây dựng và chỉ đạo thực hiện chiến lược, quy hoạch, kế hoạch, chính sách phát triển giáo dục. 2. Ban hành và tổ chức thực hiện văn bản quy phạm pháp luật về giáo dục; ban hành điều lệ nhà trường, chuẩn cơ sở giáo dục, quy chế tổ chức và hoạt động của cơ sở giáo dục, điều lệ ban đại diện cha mẹ học sinh; quy định hoạt động dạy học và giáo dục trong nhà trường và ngoài nhà trường; quy định về đánh giá kết quả học tập và rèn luyện; khen thưởng và kỷ luật đối với người học. 3. Quy định tiêu chuẩn chức danh, chế độ làm việc của nhà giáo và cán bộ quản lý giáo dục; danh mục khung vị trí việc làm và định mức số lượng người làm việc trong các cơ sở giáo dục; tiêu chuẩn người đứng đầu, cấp phó của người đứng đầu các cơ sở giáo dục; tiêu chuẩn chức danh người đứng đầu, cấp phó của người đứng đầu cơ quan chuyên môn về giáo dục thuộc Ủy ban nhân dân cấp tỉnh, cấp huyện; chuẩn nghề nghiệp nhà giáo; ban hành quy tắc ứng xử của nhà giáo, của cơ sở giáo dục; quy định về điều kiện, tiêu chuẩn và hình thức tuyển dụng giáo viên. 4. Quy định mục tiêu, chương trình, nội dung giáo dục; khung trình độ quốc gia; tiêu chuẩn nhà giáo; tiêu chuẩn, định mức sử dụng cơ sở vật chất, thư viện và thiết bị trường học; việc biên soạn, sử dụng sách giáo khoa, giáo trình; việc thi, kiểm tra, tuyển sinh, liên kết đào tạo và quản lý văn bằng, chứng chỉ; việc công nhận văn bằng do cơ sở giáo dục nước ngoài cấp được sử dụng tại Việt Nam. 5. Quy định về đánh giá chất lượng giáo dục; tổ chức, quản lý việc bảo đảm chất lượng giáo dục và kiểm định chất lượng giáo dục. 6. Thực hiện công tác thống kê, thông tin về tổ chức và hoạt động giáo dục. 7. Tổ chức bộ máy quản lý giáo dục. 8. Tổ chức, chỉ đạo việc đào tạo, bồi dưỡng, quản lý nhà giáo và cán bộ quản lý giáo dục. 9. Huy động, quản lý, sử dụng các nguồn lực để phát triển sự nghiệp giáo dục. 10. Tổ chức, quản lý công tác nghiên cứu, ứng dụng khoa học, công nghệ trong lĩnh vực giáo dục. 11. Tổ chức, quản lý công tác hợp tác quốc tế, đầu tư của nước ngoài về giáo dục. 12. Thanh tra, kiểm tra việc chấp hành pháp luật về giáo dục; giải quyết khiếu nại, tố cáo, khen thưởng, xử lý vi phạm pháp luật trong giáo dục.'}, {'law_id': 'Luật Viên chức', 'article_id': '1', 'content': 'Phạm vi điều chỉnh Luật này quy định về viên chức; quyền nghĩa vụ của viên chức; tuyển dụng, sử dụng và quản lý viên chức trong đơn vị sự nghiệp công lập.'}, {'law_id': 'Luật Viên chức', 'article_id': '39', 'content': 'Mục đích của đánh giá viên chức Mục đích của đánh giá viên chức để làm căn cứ tiếp tục bố trí, sử dụng, bổ nhiệm, miễn nhiệm, đào tạo, bồi dưỡng, khen thưởng, kỷ luật và thực hiện chế độ, chính sách đối với viên chức.'}, {'law_id': 'Luật Viên chức', 'article_id': '7', 'content': 'Vị trí việc làm 1. Vị trí việc làm là công việc hoặc nhiệm vụ gắn với chức danh nghề nghiệp hoặc chức vụ quản lý tương ứng, là căn cứ xác định số lượng người làm việc, cơ cấu viên chức để thực hiện việc tuyển dụng, sử dụng và quản lý viên chức trong đơn vị sự nghiệp công lập. 2. Chính phủ quy định nguyên tắc, phương pháp xác định vị trí việc làm, thẩm quyền, trình tự, thủ tục quyết định số lượng vị trí việc làm trong đơn vị sự nghiệp công lập.'}]}\n"
          ]
        }
      ],
      "source": [
        "print(data[0])"
      ]
    },
    {
      "cell_type": "code",
      "execution_count": 7,
      "metadata": {
        "id": "0c4QRobJF_Sp"
      },
      "outputs": [],
      "source": [
        "#save data to json file\n",
        "with open('/content/drive/MyDrive/Colab Notebooks/ALQAC/test.json', 'w') as f:\n",
        "    json.dump(data, f)"
      ]
    },
    {
      "cell_type": "code",
      "execution_count": 2,
      "metadata": {
        "id": "WRuUn4R0lhXn"
      },
      "outputs": [],
      "source": [
        "prompts = dict()"
      ]
    },
    {
      "cell_type": "code",
      "execution_count": 3,
      "metadata": {
        "id": "FCbUXLXGoynF"
      },
      "outputs": [],
      "source": [
        "instruction = dict()\n",
        "instruction['Tự luận'] = 'Chỉ cần trả lời đáp án ngắn gọn nhất có thể, không cần giải thích'\n",
        "instruction['Trắc nghiệm'] = 'Chỉ có 1 đáp án đúng và chỉ cần trả lời A, B, C hoặc D, không cần giải thích'\n",
        "instruction['Đúng/Sai'] = 'Chỉ cần trả lời Đúng hoặc Sai, không cần giải thích'"
      ]
    },
    {
      "cell_type": "code",
      "execution_count": 4,
      "metadata": {
        "id": "dQYJrhZilk-B"
      },
      "outputs": [],
      "source": [
        "prompts['Tự luận'] = [\n",
        "    \"Các bài viết liên quan: {articles}\\n\\nCâu hỏi: {question}\\n\\n\",\n",
        "]\n",
        "prompts['Trắc nghiệm'] = [\n",
        "    \"Các bài viết liên quan: {articles}\\n\\nCâu hỏi: {question}\\n\\nLựa chọn: {choices}\\n\\n\",\n",
        "]\n",
        "prompts['Đúng/Sai'] = [\n",
        "    \"Các bài viết liên quan: {articles}\\n\\nCâu hỏi: {question}\\n\\n\",\n",
        "]\n"
      ]
    },
    {
      "cell_type": "code",
      "execution_count": null,
      "metadata": {
        "id": "B9jvdMOQXHJa",
        "trusted": true
      },
      "outputs": [],
      "source": [
        "# prompts['essay'] = [p + \"\\n\\nLưu ý: Chỉ cần trả lời đáp án, không cần giải thích\" for p in prompts['essay']]\n",
        "# prompts['options'] = [p + \"\\n\\nLưu ý: Chỉ có 1 đáp án đúng và chỉ cần trả lời A, B, C hoặc D, không cần giải thích\" for p in prompts['options']]\n",
        "# prompts['truefalse'] = [p + \"\\n\\nLưu ý: Chỉ cần trả lời Đúng hoặc Sai, không cần giải thích\" for p in prompts['truefalse']]"
      ]
    },
    {
      "cell_type": "code",
      "execution_count": 44,
      "metadata": {
        "colab": {
          "base_uri": "https://localhost:8080/"
        },
        "id": "ygw8yXVOXHJa",
        "outputId": "191ea340-f879-47a3-d1a8-d950b792014b",
        "trusted": true
      },
      "outputs": [
        {
          "name": "stdout",
          "output_type": "stream",
          "text": [
            "\n"
          ]
        }
      ],
      "source": [
        "def get_relevant_articles(relevant_articles, law_data, top_k=1):\n",
        "    articles_content = []\n",
        "    for i in range(min(top_k-1,len(relevant_articles))):\n",
        "        for law in law_data:\n",
        "            if law['id'] == relevant_articles[i]['law_id']:\n",
        "                for article in law['articles']:\n",
        "                    if article['id'] == relevant_articles[i]['article_id']:\n",
        "                        articles_content.append(article['text'])\n",
        "                        break\n",
        "#             raise ValueError('Article not found')\n",
        "    return \" \".join(articles_content)\n",
        "print(get_relevant_articles(data[0]['relevant_articles'], law))"
      ]
    },
    {
      "cell_type": "code",
      "execution_count": null,
      "metadata": {
        "id": "rl3ICX70XHJb",
        "trusted": true
      },
      "outputs": [],
      "source": [
        "def prompt_format_data(data, prompt):\n",
        "    if data['question_type'] == 'Trắc nghiệm':\n",
        "        return prompt.format(articles = get_relevant_articles(data[],law),\n",
        "                    question = data['text'], choices = data['choices'])\n",
        "    else:\n",
        "        return prompt.format(articles = get_relevant_articles(data['relevant_articles'],law),\n",
        "                    question = data['text'])\n",
        "print(prompt_format_data(data[92], prompts[\"Tự luận\"][-1]))"
      ]
    },
    {
      "cell_type": "code",
      "execution_count": 52,
      "metadata": {
        "colab": {
          "base_uri": "https://localhost:8080/"
        },
        "id": "_swm7amgU1CA",
        "outputId": "3efdc3ea-1e14-44bf-b10f-ad6505fbde18"
      },
      "outputs": [
        {
          "name": "stdout",
          "output_type": "stream",
          "text": [
            "Quyền và nghĩa vụ của doanh nghiệp kinh doanh dịch vụ lữ hành 1. Doanh nghiệp kinh doanh dịch vụ lữ hành nội địa có quyền và nghĩa vụ sau đây: a) Xây dựng, quảng cáo, bán và tổ chức thực hiện các dịch vụ du lịch, chương trình du lịch cho khách du lịch theo phạm vi kinh doanh quy định trong giấy phép; b) Bảo đảm duy trì các điều kiện kinh doanh dịch vụ lữ hành theo quy định tại khoản 1 Điều 31 của Luật này; công khai tên doanh nghiệp, số giấy phép kinh doanh dịch vụ lữ hành trên biển hiệu tại trụ sở, chi nhánh, văn phòng giao dịch, trong hợp đồng lữ hành, trên ấn phẩm quảng cáo và trong giao dịch điện tử; c) Thông báo về việc thay đổi người phụ trách kinh doanh dịch vụ lữ hành, gửi hồ sơ về người phụ trách kinh doanh dịch vụ lữ hành thay thế cho cơ quan nhà nước có thẩm quyền cấp giấy phép trong thời hạn 15 ngày kể từ khi thay đổi; d) Cung cấp thông tin về chương trình, dịch vụ, điểm đến du lịch cho khách du lịch; đ) Mua bảo hiểm cho khách du lịch trong thời gian thực hiện chương trình du lịch, trừ trường hợp khách du lịch đã có bảo hiểm cho toàn bộ chương trình du lịch; e) Sử dụng hướng dẫn viên du lịch để hướng dẫn khách du lịch theo hợp đồng lữ hành; chịu trách nhiệm về hoạt động của hướng dẫn viên du lịch trong thời gian hướng dẫn khách du lịch theo hợp đồng; g) Chấp hành, phổ biến, hướng dẫn khách du lịch tuân thủ pháp luật, quy định của nơi đến du lịch; ứng xử văn minh, tôn trọng bản sắc văn hóa, phong tục, tập quán của Việt Nam và nơi đến du lịch; phối hợp với cơ quan nhà nước có thẩm quyền xử lý kịp thời các hành vi vi phạm pháp luật của khách du lịch trong thời gian tham gia chương trình du lịch; h) Thực hiện chế độ báo cáo, thống kê, kế toán, lưu giữ hồ sơ theo quy định của pháp luật; i) Áp dụng biện pháp bảo đảm an toàn tính mạng, sức khỏe, tài sản của khách du lịch; kịp thời thông báo cho cơ quan nhà nước có thẩm quyền về tai nạn, rủi ro xảy ra với khách du lịch và có biện pháp khắc phục hậu quả; k) Quản lý khách du lịch theo chương trình du lịch đã thỏa thuận với khách du lịch. 2. Doanh nghiệp kinh doanh dịch vụ lữ hành quốc tế phục vụ khách du lịch quốc tế đến Việt Nam có quyền và nghĩa vụ sau đây: a) Quyền và nghĩa vụ quy định tại các điểm a, c, d, đ, e, g, h, i và k khoản 1 Điều này; b) Bảo đảm duy trì điều kiện kinh doanh dịch vụ lữ hành theo quy định tại khoản 2 Điều 31 của Luật này; công khai tên doanh nghiệp, số giấy phép kinh doanh dịch vụ lữ hành trên biển hiệu tại trụ sở, chi nhánh, văn phòng giao dịch, trong hợp đồng lữ hành, trên ấn phẩm quảng cáo và trong giao dịch điện tử; c) Hỗ trợ khách du lịch làm thủ tục nhập cảnh, xuất cảnh, quá cảnh, hải quan. 3. Doanh nghiệp kinh doanh dịch vụ lữ hành quốc tế phục vụ khách du lịch ra nước ngoài có quyền và nghĩa vụ sau đây: a) Quyền và nghĩa vụ quy định tại các điểm a, c, d, đ, g, h, i và k khoản 1, điểm b và điểm c khoản 2 Điều này; b) Sử dụng hướng dẫn viên du lịch quốc tế để đưa khách du lịch ra nước ngoài theo hợp đồng lữ hành; chịu trách nhiệm về hoạt động của hướng dẫn viên du lịch trong thời gian đưa khách du lịch ra nước ngoài.\n"
          ]
        }
      ],
      "source": [
        "print(data[92]['predict_relevant_articles'][0]['content'])"
      ]
    },
    {
      "cell_type": "code",
      "execution_count": 82,
      "metadata": {
        "colab": {
          "base_uri": "https://localhost:8080/"
        },
        "id": "0cCx7s8BR0gJ",
        "outputId": "6329b150-cc78-4a2f-908b-3af48f58d254"
      },
      "outputs": [
        {
          "name": "stdout",
          "output_type": "stream",
          "text": [
            "Các bài viết liên quan: Chính sách về bảo vệ Tổ quốc 1. Bảo đảm cho thanh niên được giáo dục quốc phòng và an ninh, tinh thần yêu nước, chủ nghĩa anh hùng cách mạng, ý thức xây dựng và bảo vệ Tổ quốc. 2. Bảo đảm cho thanh niên thực hiện nghĩa vụ quân sự; nghĩa vụ tham gia Công an nhân dân, Dân quân tự vệ; tham gia quân nhân dự bị và xây dựng nền quốc phòng toàn dân, nền an ninh nhân dân theo quy định của pháp luật. 3. Thanh niên hoàn thành nghĩa vụ quân sự, nghĩa vụ tham gia Công an nhân dân được hưởng chính sách hỗ trợ đào tạo nghề và các chính sách ưu đãi khác theo quy định của pháp luật.\n",
            "Chính sách đối với thanh niên xung phong 1. Thanh niên xung phong là lực lượng xung kích của thanh niên tham gia thực hiện các nhiệm vụ phát triển kinh tế - xã hội, giải quyết việc làm, giáo dục, đào tạo, rèn luyện thanh niên và các nhiệm vụ đột xuất, cấp bách, khó khăn, gian khổ trong xây dựng và bảo vệ Tổ quốc. 2. Nhà nước ban hành chính sách để thanh niên xung phong thực hiện các nhiệm vụ sau đây: a) Tham gia dự án phát triển kinh tế - xã hội được Nhà nước giao; b) Tham gia khắc phục hậu quả thiên tai, dịch bệnh; bảo vệ môi trường; giữ gìn trật tự, an toàn xã hội, quốc phòng, an ninh quốc gia; c) Tham gia sản xuất hàng hóa, cung ứng dịch vụ, chuyển giao tiến bộ kỹ thuật hỗ trợ sản xuất, đào tạo nghề gắn với tạo việc làm cho thanh niên; d) Các nhiệm vụ đột xuất, cấp bách, khó khăn, gian khổ theo quy định của pháp luật. 3. Nhà nước bảo đảm điều kiện về kinh phí, cơ sở vật chất và trang thiết bị cần thiết cho tổ chức thanh niên xung phong khi thực hiện nhiệm vụ được Nhà nước giao. 4. Thanh niên xung phong được hưởng chế độ, chính sách trong và sau khi hoàn thành nhiệm vụ. 5. Chính phủ quy định chi tiết Điều này.\n",
            "Chính sách về văn hóa, thể dục, thể thao 1. Khuyến khích, hỗ trợ thanh niên tham gia hoạt động và sáng tạo trong văn hóa, thể dục, thể thao. 2. Tạo điều kiện cho thanh niên tích cực tham gia giữ gìn, phát huy giá trị văn hóa dân tộc và tiếp thu tinh hoa văn hóa nhân loại. 3. Tuyên truyền, phổ biến, giáo dục nâng cao nhận thức và bảo vệ sự an toàn của thanh niên trên không gian mạng. 4. Khuyến khích tổ chức, cá nhân đầu tư xây dựng các thiết chế văn hóa, thể dục, thể thao cho thanh niên.\n",
            "Chính sách về khởi nghiệp 1. Giáo dục, đào tạo kiến thức, kỹ năng khởi nghiệp cho thanh niên. 2. Cung cấp thông tin về thị trường; hỗ trợ pháp lý, khoa học và công nghệ, xúc tiến đầu tư, phát triển nguồn nhân lực; ưu đãi vay vốn từ các tổ chức tín dụng theo quy định của pháp luật. 3. Khuyến khích, tạo môi trường thuận lợi để thanh niên khởi nghiệp sáng tạo ứng dụng khoa học và công nghệ. 4. Ưu đãi, hỗ trợ tổ chức, cá nhân tham gia cung ứng dịch vụ hỗ trợ thanh niên khởi nghiệp; khuyến khích thành lập quỹ khởi nghiệp cho thanh niên theo quy định của pháp luật\n",
            "Công dân có nghĩa vụ tuân theo Hiến pháp và pháp luật; tham gia bảo vệ an ninh quốc gia, trật tự, an toàn xã hội và chấp hành những quy tắc sinh hoạt công cộng.\n",
            "\n",
            "\n",
            "Câu hỏi: Thanh niên hoàn thành nghĩa vụ quân sự, nghĩa vụ tham gia Công an nhân dân được hưởng chính sách hỗ trợ đào tạo nghề theo quy định, đúng hay sai?\n",
            "\n",
            "\n"
          ]
        }
      ],
      "source": [
        "def prompt_format_data2(data, prompt, top_k=1):\n",
        "    all_articles = []\n",
        "    #avoid lost-in-the-middle, make 2 top first, 2 top last, 2 top after first, 2 top before last, so on...\n",
        "    relevant_articles =\"\"\n",
        "    status = 0\n",
        "    for i in range(top_k -1, -1, -1):\n",
        "        if status % 2:\n",
        "          all_articles.append(data['predict_relevant_articles'][i]['content'])\n",
        "        else:\n",
        "          #add to first element\n",
        "          all_articles.insert(0, data['predict_relevant_articles'][i]['content'])\n",
        "        status += 1\n",
        "    for article in all_articles:\n",
        "        relevant_articles += article + \"\\n\"\n",
        "    if data['question_type'] == 'Trắc nghiệm':\n",
        "        return prompt.format(articles = relevant_articles,\n",
        "                    question = data['text'], choices = data['choices'])\n",
        "    else:\n",
        "        return prompt.format(articles = relevant_articles,\n",
        "                    question = data['text'])\n",
        "print(prompt_format_data2(data[4], prompts[\"Đúng/Sai\"][-1], 5))"
      ]
    },
    {
      "cell_type": "code",
      "execution_count": 110,
      "metadata": {
        "colab": {
          "base_uri": "https://localhost:8080/"
        },
        "id": "7_67YMgiv37d",
        "outputId": "28b98d7e-fa4f-496c-e57d-adce90d63c1b"
      },
      "outputs": [
        {
          "name": "stdout",
          "output_type": "stream",
          "text": [
            "trong 1 năm\n"
          ]
        }
      ],
      "source": [
        "import re\n",
        "def process(input_string):\n",
        "    # Sử dụng regular expression để thay thế các dấu câu bằng chuỗi rỗng\n",
        "    no_punctuation_string = re.sub(r'[^\\w\\s]', '', input_string.strip().lower())\n",
        "    modified_string = re.sub(r'\\b0+(\\d)', r'\\1', no_punctuation_string)\n",
        "    #remove ** from start and end\n",
        "    modified_string = modified_string.strip('*')\n",
        "    return modified_string\n",
        "example = '**Trong 01 năm**'\n",
        "print(process(example))"
      ]
    },
    {
      "cell_type": "markdown",
      "metadata": {
        "id": "uaDHz4RMXHJb"
      },
      "source": [
        "# LLAMA"
      ]
    },
    {
      "cell_type": "code",
      "execution_count": 12,
      "metadata": {
        "colab": {
          "base_uri": "https://localhost:8080/"
        },
        "id": "phzgW1vbXHJb",
        "outputId": "016e7252-01b6-4ab2-94a0-9fc15c8f3da5",
        "trusted": true
      },
      "outputs": [
        {
          "name": "stdout",
          "output_type": "stream",
          "text": [
            "\u001b[?25l   \u001b[90m━━━━━━━━━━━━━━━━━━━━━━━━━━━━━━━━━━━━━━━━\u001b[0m \u001b[32m0.0/106.5 kB\u001b[0m \u001b[31m?\u001b[0m eta \u001b[36m-:--:--\u001b[0m\r\u001b[2K   \u001b[90m━━━━━━━━━━━━━━━━━━━━━━━━━━━━━━━━━━━━━━━━\u001b[0m \u001b[32m106.5/106.5 kB\u001b[0m \u001b[31m4.7 MB/s\u001b[0m eta \u001b[36m0:00:00\u001b[0m\n",
            "\u001b[?25h\u001b[?25l   \u001b[90m━━━━━━━━━━━━━━━━━━━━━━━━━━━━━━━━━━━━━━━━\u001b[0m \u001b[32m0.0/76.4 kB\u001b[0m \u001b[31m?\u001b[0m eta \u001b[36m-:--:--\u001b[0m\r\u001b[2K   \u001b[90m━━━━━━━━━━━━━━━━━━━━━━━━━━━━━━━━━━━━━━━━\u001b[0m \u001b[32m76.4/76.4 kB\u001b[0m \u001b[31m5.8 MB/s\u001b[0m eta \u001b[36m0:00:00\u001b[0m\n",
            "\u001b[?25h\u001b[?25l   \u001b[90m━━━━━━━━━━━━━━━━━━━━━━━━━━━━━━━━━━━━━━━━\u001b[0m \u001b[32m0.0/78.0 kB\u001b[0m \u001b[31m?\u001b[0m eta \u001b[36m-:--:--\u001b[0m\r\u001b[2K   \u001b[90m━━━━━━━━━━━━━━━━━━━━━━━━━━━━━━━━━━━━━━━━\u001b[0m \u001b[32m78.0/78.0 kB\u001b[0m \u001b[31m5.3 MB/s\u001b[0m eta \u001b[36m0:00:00\u001b[0m\n",
            "\u001b[?25h\u001b[?25l   \u001b[90m━━━━━━━━━━━━━━━━━━━━━━━━━━━━━━━━━━━━━━━━\u001b[0m \u001b[32m0.0/58.3 kB\u001b[0m \u001b[31m?\u001b[0m eta \u001b[36m-:--:--\u001b[0m\r\u001b[2K   \u001b[90m━━━━━━━━━━━━━━━━━━━━━━━━━━━━━━━━━━━━━━━━\u001b[0m \u001b[32m58.3/58.3 kB\u001b[0m \u001b[31m3.3 MB/s\u001b[0m eta \u001b[36m0:00:00\u001b[0m\n",
            "\u001b[?25h"
          ]
        }
      ],
      "source": [
        "!pip install -q groq"
      ]
    },
    {
      "cell_type": "code",
      "execution_count": 117,
      "metadata": {
        "id": "Z7Wp5JyIXHJc",
        "trusted": true
      },
      "outputs": [],
      "source": [
        "import os\n",
        "import time\n",
        "from groq import Groq\n",
        "\n",
        "client = Groq(\n",
        "    api_key='' #get tokenn from groq\n",
        ")"
      ]
    },
    {
      "cell_type": "code",
      "execution_count": 118,
      "metadata": {
        "id": "qd-zkUxNXHJc",
        "trusted": true
      },
      "outputs": [],
      "source": [
        "def generate_answer_groq(instruction, prompt):\n",
        "    chat_completion = client.chat.completions.create(\n",
        "        messages=[\n",
        "            {\n",
        "                \"role\": \"system\",\n",
        "                \"content\": instruction,\n",
        "            },\n",
        "            {\n",
        "                \"role\": \"user\",\n",
        "                \"content\": prompt,\n",
        "            }\n",
        "        ],\n",
        "        model=\"llama3-70b-8192\",\n",
        "\n",
        "        max_tokens=1024,\n",
        "    )\n",
        "\n",
        "    return chat_completion.choices[0].message.content"
      ]
    },
    {
      "cell_type": "code",
      "execution_count": 16,
      "metadata": {
        "colab": {
          "base_uri": "https://localhost:8080/"
        },
        "id": "ftD201UuXHJc",
        "outputId": "0464daf0-d112-4876-fe15-d47d5c2a3db5",
        "trusted": true
      },
      "outputs": [
        {
          "name": "stdout",
          "output_type": "stream",
          "text": [
            "False in data:  04-DS-6 with answer:  ĐÚNG and true:  Sai\n",
            "False in data:  04-DS-13 with answer:  Sai and true:  Đúng\n",
            "False in data:  04-DS-19 with answer:  ĐÚNG and true:  Sai\n",
            "False in data:  04-TN-9 with answer:  B and true:  C\n",
            "False in data:  04-TN-10 with answer:  B and true:  D\n",
            "False in data:  04-TN-27 with answer:  D and true:  C\n",
            "False in data:  04-TL-1 with answer:  03 ngày. and true:  03 ngày làm việc.\n",
            "False in data:  04-TL-3 with answer:  6 tháng. and true:  Trước ngày 30/11/2023.\n",
            "False in data:  04-TL-4 with answer:  Giá trị. and true:  Chia theo giá trị.\n",
            "False in data:  04-TL-5 with answer:  300 and true:  300 ngày.\n",
            "False in data:  04-TL-6 with answer:  Chương trình, sách giáo khoa, giáo trình, tài liệu. and true:  Chương trình, sách giáo khoa, giáo trình, tài liệu giáo dục thường xuyên.\n",
            "False in data:  04-TL-8 with answer:  Có, trong thời hạn 30 ngày. and true:  Công ty A có quyền yêu cầu sửa chữa lỗi tính toán sai trong phán quyết. Hội đồng trọng tài cần phải đáp ứng yêu cầu này trong thời hạn 30 ngày, kể từ ngày nhận được yêu cầu.\n",
            "accuracy:  88.0\n"
          ]
        }
      ],
      "source": [
        "answer_llama = []\n",
        "num_true = 0\n",
        "\n",
        "for i in range(0, len(data)):\n",
        "    prompt = \"\"\n",
        "\n",
        "    prompt = prompt_format_data(data[i], prompts[data[i][\"question_type\"]][-1])\n",
        "\n",
        "    # prompt = prompt + 'Lưu ý: '+ instruction[data[i][\"question_type\"]]\n",
        "    response = generate_answer_groq(instruction[data[i][\"question_type\"]], prompt)\n",
        "    # print(data[i]['question_id'], ':', response)\n",
        "    if process(response) == process(data[i][\"answer\"]):\n",
        "        num_true += 1\n",
        "    else:\n",
        "        print('False in data: ', data[i][\"question_id\"], 'with answer: ', response, 'and true: ', data[i][\"answer\"])\n",
        "    answer_llama.append({\"question_id\": data[i]['question_id'],\n",
        "                        \"answer\": response})\n",
        "print('accuracy: ', num_true/len(data) * 100)\n"
      ]
    },
    {
      "cell_type": "markdown",
      "metadata": {
        "id": "iTj3UZDAVe8X"
      },
      "source": [
        "## top_k = 1"
      ]
    },
    {
      "cell_type": "code",
      "execution_count": 64,
      "metadata": {
        "colab": {
          "base_uri": "https://localhost:8080/"
        },
        "id": "wYTjPdiVwJLA",
        "outputId": "16c6a7a0-8252-42b7-e058-837383817373"
      },
      "outputs": [
        {
          "name": "stdout",
          "output_type": "stream",
          "text": [
            "False in data:  04-DS-9 with answer:  ĐÚNG and true:  Sai\n",
            "False in data:  04-DS-13 with answer:  Sai and true:  Đúng\n",
            "False in data:  04-DS-25 with answer:  Sai and true:  Đúng\n",
            "False in data:  04-TN-7 with answer:  D and true:  A\n",
            "False in data:  04-TN-9 with answer:  D and true:  C\n",
            "False in data:  04-TN-10 with answer:  B and true:  D\n",
            "False in data:  04-TN-41 with answer:  C and true:  B\n",
            "False in data:  04-TN-42 with answer:  B and true:  A\n",
            "False in data:  04-TL-1 with answer:  03 ngày. and true:  03 ngày làm việc.\n",
            "False in data:  04-TL-3 with answer:  01/12/2023. and true:  Trước ngày 30/11/2023.\n",
            "False in data:  04-TL-4 with answer:  Giá trị. and true:  Chia theo giá trị.\n",
            "False in data:  04-TL-5 with answer:  300 and true:  300 ngày.\n",
            "False in data:  04-TL-6 with answer:  Chương trình, sách giáo khoa, giáo trình, tài liệu. and true:  Chương trình, sách giáo khoa, giáo trình, tài liệu giáo dục thường xuyên.\n",
            "False in data:  04-TL-8 with answer:  Không. Within 30 days. and true:  Công ty A có quyền yêu cầu sửa chữa lỗi tính toán sai trong phán quyết. Hội đồng trọng tài cần phải đáp ứng yêu cầu này trong thời hạn 30 ngày, kể từ ngày nhận được yêu cầu.\n",
            "accuracy:  86.0\n"
          ]
        }
      ],
      "source": [
        "answer_llama2 = []\n",
        "num_true = 0\n",
        "\n",
        "for i in range(0, len(data)):\n",
        "    prompt = \"\"\n",
        "\n",
        "    prompt = prompt_format_data2(data[i], prompts[data[i][\"question_type\"]][-1])\n",
        "\n",
        "    # prompt = prompt + 'Lưu ý: '+ instruction[data[i][\"question_type\"]]\n",
        "    response = generate_answer_groq(instruction[data[i][\"question_type\"]], prompt)\n",
        "    # print(data[i]['question_id'], ':', response)\n",
        "    if process(response) == process(data[i][\"answer\"]):\n",
        "        num_true += 1\n",
        "    else:\n",
        "        print('False in data: ', data[i][\"question_id\"], 'with answer: ', response, 'and true: ', data[i][\"answer\"])\n",
        "    answer_llama2.append({\"question_id\": data[i]['question_id'],\n",
        "                        \"answer\": response})\n",
        "print('accuracy: ', num_true/len(data) * 100)\n"
      ]
    },
    {
      "cell_type": "code",
      "execution_count": 66,
      "metadata": {
        "colab": {
          "base_uri": "https://localhost:8080/"
        },
        "id": "hzkxbynfWhHU",
        "outputId": "f1a79d87-b147-4f31-8022-d2c6f18667a9"
      },
      "outputs": [
        {
          "name": "stdout",
          "output_type": "stream",
          "text": [
            "100\n"
          ]
        }
      ],
      "source": [
        "print(len(answer_llama2))\n",
        "with open('/content/drive/MyDrive/Colab Notebooks/ALQAC/llama_v2.json', 'w', encoding='utf-8') as f:\n",
        "    json.dump(answer_llama2, f, ensure_ascii=False, indent=4)"
      ]
    },
    {
      "cell_type": "markdown",
      "metadata": {
        "id": "DSXPWLBIhOEM"
      },
      "source": [
        "# top_k = 5"
      ]
    },
    {
      "cell_type": "code",
      "execution_count": null,
      "metadata": {
        "id": "MQRCfXQX3Z1c"
      },
      "outputs": [],
      "source": [
        "answer_llama3 = []\n",
        "num_true = 0\n",
        "\n",
        "for i in range(0, len(data)):\n",
        "    prompt = \"\"\n",
        "\n",
        "    prompt = prompt_format_data2(data[i], prompts[data[i][\"question_type\"]][-1], top_k = 5)\n",
        "\n",
        "    # prompt = prompt + 'Lưu ý: '+ instruction[data[i][\"question_type\"]]\n",
        "    response = generate_answer_groq(instruction[data[i][\"question_type\"]], prompt)\n",
        "    # print(data[i]['question_id'], ':', response)\n",
        "    if process(response) == process(data[i][\"answer\"]):\n",
        "        num_true += 1\n",
        "    else:\n",
        "        print('False in data: ', data[i][\"question_id\"], 'with answer: ', response, 'and true: ', data[i][\"answer\"])\n",
        "    answer_llama3.append({\"question_id\": data[i]['question_id'],\n",
        "                        \"answer\": response})\n",
        "    time.sleep(3)\n",
        "print('accuracy: ', num_true/len(data) * 100)\n"
      ]
    },
    {
      "cell_type": "code",
      "execution_count": 95,
      "metadata": {
        "colab": {
          "base_uri": "https://localhost:8080/"
        },
        "id": "E8Smcqb6haBB",
        "outputId": "9cb9eae5-a2a5-489e-f796-c973c6fd0dea"
      },
      "outputs": [
        {
          "name": "stdout",
          "output_type": "stream",
          "text": [
            "100\n"
          ]
        }
      ],
      "source": [
        "print(len(answer_llama3))\n",
        "with open('/content/drive/MyDrive/Colab Notebooks/ALQAC/llama_v3.json', 'w', encoding='utf-8') as f:\n",
        "    json.dump(answer_llama3, f, ensure_ascii=False, indent=4)"
      ]
    },
    {
      "cell_type": "markdown",
      "metadata": {
        "id": "dDriCQU24xh9"
      },
      "source": [
        "## top_k = 10"
      ]
    },
    {
      "cell_type": "code",
      "execution_count": null,
      "metadata": {
        "id": "OhsmmMK6hPWn"
      },
      "outputs": [],
      "source": [
        "answer_llama4 = []\n",
        "num_true = 0\n",
        "\n",
        "for i in range(13, len(data)):\n",
        "    prompt = \"\"\n",
        "\n",
        "    prompt = prompt_format_data2(data[i], prompts[data[i][\"question_type\"]][-1], top_k = 10)\n",
        "\n",
        "    # prompt = prompt + 'Lưu ý: '+ instruction[data[i][\"question_type\"]]\n",
        "    response = generate_answer_groq(instruction[data[i][\"question_type\"]], prompt)\n",
        "    # print(data[i]['question_id'], ':', response)\n",
        "    if process(response) == process(data[i][\"answer\"]):\n",
        "        num_true += 1\n",
        "    else:\n",
        "        print('False in data: ', data[i][\"question_id\"], 'with answer: ', response, 'and true: ', data[i][\"answer\"])\n",
        "    answer_llama4.append({\"question_id\": data[i]['question_id'],\n",
        "                        \"answer\": response})\n",
        "    time.sleep(3)\n",
        "print('accuracy: ', num_true/len(data) * 100)\n"
      ]
    },
    {
      "cell_type": "markdown",
      "metadata": {
        "id": "QkG8ISBpXHJc"
      },
      "source": [
        "# Gemini"
      ]
    },
    {
      "cell_type": "code",
      "execution_count": 20,
      "metadata": {
        "id": "pdBS0TDZXHJd",
        "trusted": true
      },
      "outputs": [],
      "source": [
        "pip install -q -U google-generativeai"
      ]
    },
    {
      "cell_type": "code",
      "execution_count": 92,
      "metadata": {
        "id": "0tC_CkX0XHJd",
        "trusted": true
      },
      "outputs": [],
      "source": [
        "import google.generativeai as genai\n",
        "import os\n",
        "import time\n",
        "genai.configure(api_key=\"\") #get token from google\n",
        "\n",
        "model = genai.GenerativeModel('gemini-1.5-flash')"
      ]
    },
    {
      "cell_type": "code",
      "execution_count": 93,
      "metadata": {
        "id": "ugx3Die4XHJd",
        "trusted": true
      },
      "outputs": [],
      "source": [
        "config = genai.GenerationConfig(\n",
        "    max_output_tokens=1024,\n",
        ")"
      ]
    },
    {
      "cell_type": "code",
      "execution_count": 94,
      "metadata": {
        "id": "d_DX-N-Whjs7"
      },
      "outputs": [],
      "source": [
        "from google.generativeai.types import HarmCategory, HarmBlockThreshold\n",
        "safety_settings={\n",
        "\n",
        "        HarmCategory.HARM_CATEGORY_HATE_SPEECH: HarmBlockThreshold.BLOCK_NONE,\n",
        "        HarmCategory.HARM_CATEGORY_HARASSMENT: HarmBlockThreshold.BLOCK_NONE,\n",
        "\n",
        "        HarmCategory.HARM_CATEGORY_SEXUALLY_EXPLICIT: HarmBlockThreshold.BLOCK_NONE,\n",
        "\n",
        "        HarmCategory.HARM_CATEGORY_HATE_SPEECH: HarmBlockThreshold.BLOCK_NONE,\n",
        "        HarmCategory.HARM_CATEGORY_HARASSMENT: HarmBlockThreshold.BLOCK_NONE,\n",
        "        HarmCategory.HARM_CATEGORY_DANGEROUS_CONTENT: HarmBlockThreshold.BLOCK_NONE\n",
        "\n",
        "    }"
      ]
    },
    {
      "cell_type": "code",
      "execution_count": 26,
      "metadata": {
        "colab": {
          "base_uri": "https://localhost:8080/",
          "height": 696
        },
        "id": "Oz7OmEmiXHJd",
        "outputId": "f6870c18-0af2-4851-a9af-deb189fc1464",
        "trusted": true
      },
      "outputs": [
        {
          "name": "stdout",
          "output_type": "stream",
          "text": [
            "False in data:  04-DS-16 with answer:  Đúng. \n",
            " and true:  Sai\n",
            "False in data:  04-DS-48 with answer:  Sai \n",
            " and true:  Đúng\n",
            "False in data:  04-TN-8 with answer:  Đáp án **C**. \n",
            "\n",
            "Theo phần 2 của bài viết, những người đang bị áp dụng biện pháp xử lý hành chính đưa vào cơ sở chữa bệnh không được đăng ký dự tuyển viên chức. \n",
            " and true:  C\n",
            "False in data:  04-TN-9 with answer:  D \n",
            " and true:  C\n",
            "False in data:  04-TN-10 with answer:  Đáp án: **D** \n",
            " and true:  D\n",
            "False in data:  04-TN-17 with answer:  Đáp án: **B** \n",
            " and true:  B\n",
            "False in data:  04-TN-24 with answer:  Đáp án: **A** \n",
            " and true:  A\n",
            "False in data:  04-TN-27 with answer:  Đáp án **D**. \n",
            "\n",
            "Theo quy định, giữa năm là ngày cuối cùng của tháng 6, không phải ngày 30 tháng 6. \n",
            " and true:  C\n",
            "False in data:  04-TN-30 with answer:  Đáp án **B**.\n",
            "\n",
            "* Theo quy định, khi thời hạn tính bằng ngày, ngày đầu tiên của thời hạn không được tính mà tính từ ngày tiếp theo liền kề ngày được xác định.\n",
            "* Do đó, thời hạn của thỏa thuận giữa A và B bắt đầu từ ngày 2/1/2024, không phải ngày 1/1/2024. \n",
            " and true:  B\n",
            "False in data:  04-TN-36 with answer:  Đáp án: **B** \n",
            " and true:  B\n",
            "False in data:  04-TN-40 with answer:  Đáp án: **C** \n",
            " and true:  C\n",
            "False in data:  04-TN-41 with answer:  Đáp án: **B** \n",
            " and true:  B\n",
            "False in data:  04-TL-1 with answer:  03 ngày. \n",
            " and true:  03 ngày làm việc.\n",
            "False in data:  04-TL-3 with answer:  29/11/2023 \n",
            " and true:  Trước ngày 30/11/2023.\n",
            "False in data:  04-TL-8 with answer:  Công ty A có quyền yêu cầu sửa chữa lỗi tính toán sai. Hội đồng trọng tài cần phải đáp ứng yêu cầu này trong thời hạn 30 ngày kể từ ngày 15 tháng 6. \n",
            " and true:  Công ty A có quyền yêu cầu sửa chữa lỗi tính toán sai trong phán quyết. Hội đồng trọng tài cần phải đáp ứng yêu cầu này trong thời hạn 30 ngày, kể từ ngày nhận được yêu cầu.\n",
            "accuracy:  85.0\n"
          ]
        }
      ],
      "source": [
        "answer_gemini = []\n",
        "num_true = 0\n",
        "for i in range(0, len(data)):\n",
        "    prompt = prompt_format_data(data[i], prompts[data[i][\"question_type\"]][-1])\n",
        "    prompt = prompt + 'Lưu ý: '+ instruction[data[i][\"question_type\"]]\n",
        "    response = model.generate_content(prompt, generation_config=config, safety_settings=safety_settings).text\n",
        "    if process(response) == process(data[i][\"answer\"]):\n",
        "        num_true += 1\n",
        "    else:\n",
        "        print('False in data: ', data[i][\"question_id\"], 'with answer: ', response, 'and true: ', data[i][\"answer\"])\n",
        "    answer_gemini.append({\"question_id\": data[i]['question_id'],\n",
        "                        \"answer\": response})\n",
        "    time.sleep(5)\n",
        "print('accuracy: ', num_true/len(data) * 100)"
      ]
    },
    {
      "cell_type": "code",
      "execution_count": 27,
      "metadata": {
        "colab": {
          "base_uri": "https://localhost:8080/"
        },
        "id": "o_RMreqLXHJf",
        "outputId": "f8591da9-069c-4e99-a89f-420067c0a5da",
        "trusted": true
      },
      "outputs": [
        {
          "name": "stdout",
          "output_type": "stream",
          "text": [
            "100\n"
          ]
        }
      ],
      "source": [
        "print(len(answer_gemini))\n",
        "with open('/content/drive/MyDrive/Colab Notebooks/ALQAC/gemini_v1.json', 'w', encoding='utf-8') as f:\n",
        "    json.dump(answer_gemini, f, ensure_ascii=False, indent=4)"
      ]
    },
    {
      "cell_type": "markdown",
      "metadata": {
        "id": "Qi53tFRtWx3F"
      },
      "source": [
        "## top_k=1"
      ]
    },
    {
      "cell_type": "code",
      "execution_count": 67,
      "metadata": {
        "colab": {
          "base_uri": "https://localhost:8080/",
          "height": 610
        },
        "id": "o6uBsr2WWpK0",
        "outputId": "bd68ebfa-eb33-4180-af2f-2a5b2bb22758"
      },
      "outputs": [
        {
          "name": "stdout",
          "output_type": "stream",
          "text": [
            "False in data:  04-TN-7 with answer:  **D** \n",
            " and true:  A\n",
            "False in data:  04-TN-10 with answer:  D. 3/4/2025 \n",
            " and true:  D\n",
            "False in data:  04-TN-15 with answer:  B. \n",
            " and true:  C\n",
            "False in data:  04-TN-24 with answer:  D \n",
            " and true:  A\n",
            "False in data:  04-TN-27 with answer:  Đáp án: **B** \n",
            " and true:  C\n",
            "False in data:  04-TN-30 with answer:  D \n",
            " and true:  B\n",
            "False in data:  04-TN-34 with answer:  Đáp án **C**. \n",
            "\n",
            "Các đáp án còn lại sai:\n",
            "\n",
            "* **A:** Thời gian lưu trữ bị giới hạn bởi pháp luật.\n",
            "* **B:** Các loại rác thải phải được phân loại và lưu trữ riêng biệt.\n",
            "* **D:** Rò rỉ bụi, chất thải dạng lỏng ra môi trường là vi phạm và phải được ngăn chặn. \n",
            " and true:  C\n",
            "False in data:  04-TN-37 with answer:  Đáp án: **C** \n",
            " and true:  C\n",
            "False in data:  04-TN-41 with answer:  D. \n",
            " and true:  B\n",
            "False in data:  04-TL-1 with answer:  03 ngày. \n",
            " and true:  03 ngày làm việc.\n",
            "False in data:  04-TL-3 with answer:  29/11/2023 \n",
            " and true:  Trước ngày 30/11/2023.\n",
            "False in data:  04-TL-6 with answer:  Chương trình, sách giáo khoa, giáo trình, tài liệu. \n",
            " and true:  Chương trình, sách giáo khoa, giáo trình, tài liệu giáo dục thường xuyên.\n",
            "False in data:  04-TL-8 with answer:  Công ty A **không có quyền** yêu cầu sửa chữa lỗi tính toán sai. Luật không quy định về việc sửa chữa lỗi tính toán trong phán quyết trọng tài sau khi phán quyết được ban hành. \n",
            " and true:  Công ty A có quyền yêu cầu sửa chữa lỗi tính toán sai trong phán quyết. Hội đồng trọng tài cần phải đáp ứng yêu cầu này trong thời hạn 30 ngày, kể từ ngày nhận được yêu cầu.\n",
            "accuracy:  87.0\n"
          ]
        }
      ],
      "source": [
        "answer_gemini2 = []\n",
        "num_true = 0\n",
        "for i in range(0, len(data)):\n",
        "    prompt = prompt_format_data2(data[i], prompts[data[i][\"question_type\"]][-1])\n",
        "    prompt = prompt + 'Lưu ý: '+ instruction[data[i][\"question_type\"]]\n",
        "    response = model.generate_content(prompt, generation_config=config, safety_settings=safety_settings).text\n",
        "    if process(response) == process(data[i][\"answer\"]):\n",
        "        num_true += 1\n",
        "    else:\n",
        "        print('False in data: ', data[i][\"question_id\"], 'with answer: ', response, 'and true: ', data[i][\"answer\"])\n",
        "    answer_gemini2.append({\"question_id\": data[i]['question_id'],\n",
        "                        \"answer\": response})\n",
        "    time.sleep(5)\n",
        "print('accuracy: ', num_true/len(data) * 100)"
      ]
    },
    {
      "cell_type": "code",
      "execution_count": 68,
      "metadata": {
        "colab": {
          "base_uri": "https://localhost:8080/"
        },
        "id": "5zja45w8eqyQ",
        "outputId": "b662b783-8957-4584-8bdd-c11f8dc4bfc7"
      },
      "outputs": [
        {
          "name": "stdout",
          "output_type": "stream",
          "text": [
            "100\n"
          ]
        }
      ],
      "source": [
        "print(len(answer_gemini2))\n",
        "with open('/content/drive/MyDrive/Colab Notebooks/ALQAC/gemini_v2.json', 'w', encoding='utf-8') as f:\n",
        "    json.dump(answer_gemini2, f, ensure_ascii=False, indent=4)"
      ]
    },
    {
      "cell_type": "markdown",
      "metadata": {
        "id": "iWspCnaNhfcS"
      },
      "source": [
        "#top_k = 5"
      ]
    },
    {
      "cell_type": "code",
      "execution_count": 96,
      "metadata": {
        "colab": {
          "base_uri": "https://localhost:8080/",
          "height": 714
        },
        "id": "9JaXlB7bhgqN",
        "outputId": "c9d6f66c-4896-4871-eb61-5f3f1ae1d844"
      },
      "outputs": [
        {
          "name": "stdout",
          "output_type": "stream",
          "text": [
            "False in data:  04-DS-16 with answer:  Đúng. \n",
            " and true:  Sai\n",
            "False in data:  04-TN-6 with answer:  Đáp án: **B** \n",
            " and true:  B\n",
            "False in data:  04-TN-7 with answer:  Đáp án đúng là **A**. \n",
            "\n",
            "Theo đoạn văn về Chế độ thôi việc, viên chức không được hưởng trợ cấp thôi việc nếu bị buộc thôi việc. \n",
            " and true:  A\n",
            "False in data:  04-TN-8 with answer:  Đáp án **C**. \n",
            "\n",
            "Theo nội dung bài viết, những người đang bị áp dụng biện pháp xử lý hành chính đưa vào cơ sở chữa bệnh không được đăng ký dự tuyển viên chức.\n",
            " and true:  C\n",
            "False in data:  04-TN-9 with answer:  D. \n",
            " and true:  C\n",
            "False in data:  04-TN-10 with answer:  Đáp án: **D** \n",
            " and true:  D\n",
            "False in data:  04-TN-24 with answer:  Đáp án: **A** \n",
            " and true:  A\n",
            "False in data:  04-TN-27 with answer:  B. \n",
            " and true:  C\n",
            "False in data:  04-TN-28 with answer:  Đáp án: **C** \n",
            " and true:  D\n",
            "False in data:  04-TN-30 with answer:  D \n",
            " and true:  B\n",
            "False in data:  04-TN-31 with answer:  Đáp án: **C** \n",
            " and true:  C\n",
            "False in data:  04-TN-36 with answer:  Đáp án: **B** \n",
            " and true:  B\n",
            "False in data:  04-TN-41 with answer:  Đáp án: **A** \n",
            " and true:  B\n",
            "False in data:  04-TN-42 with answer:  D. \n",
            " and true:  A\n",
            "False in data:  04-TL-1 with answer:  03 ngày. \n",
            " and true:  03 ngày làm việc.\n",
            "False in data:  04-TL-7 with answer:  Danh sách thành viên Hội đồng quốc phòng và an ninh gồm Chủ tịch, Phó Chủ tịch và các Ủy viên. \n",
            " and true:  Chủ tịch, Phó Chủ tịch và các Ủy viên.\n",
            "False in data:  04-TL-8 with answer:  Công ty A có quyền yêu cầu sửa chữa lỗi tính toán sai trong phán quyết. Hội đồng trọng tài cần phải đáp ứng yêu cầu này trong thời hạn 30 ngày, kể từ ngày nhận được yêu cầu của Công ty A. \n",
            " and true:  Công ty A có quyền yêu cầu sửa chữa lỗi tính toán sai trong phán quyết. Hội đồng trọng tài cần phải đáp ứng yêu cầu này trong thời hạn 30 ngày, kể từ ngày nhận được yêu cầu.\n",
            "accuracy:  83.0\n"
          ]
        }
      ],
      "source": [
        "answer_gemini3 = []\n",
        "num_true = 0\n",
        "for i in range(0, len(data)):\n",
        "    prompt = prompt_format_data2(data[i], prompts[data[i][\"question_type\"]][-1], top_k = 5)\n",
        "    prompt = prompt + 'Lưu ý: '+ instruction[data[i][\"question_type\"]]\n",
        "    response = model.generate_content(prompt, generation_config=config, safety_settings=safety_settings).text\n",
        "    if process(response) == process(data[i][\"answer\"]):\n",
        "        num_true += 1\n",
        "    else:\n",
        "        print('False in data: ', data[i][\"question_id\"], 'with answer: ', response, 'and true: ', data[i][\"answer\"])\n",
        "    answer_gemini3.append({\"question_id\": data[i]['question_id'],\n",
        "                        \"answer\": response})\n",
        "    time.sleep(5)\n",
        "print('accuracy: ', num_true/len(data) * 100)"
      ]
    },
    {
      "cell_type": "code",
      "execution_count": 108,
      "metadata": {
        "id": "5w5KEGccv9IC"
      },
      "outputs": [],
      "source": [
        "config2 = genai.GenerationConfig(\n",
        "    max_output_tokens=1024, temperature = 0\n",
        ")"
      ]
    },
    {
      "cell_type": "code",
      "execution_count": 109,
      "metadata": {
        "colab": {
          "base_uri": "https://localhost:8080/",
          "height": 263
        },
        "id": "Dn1Hfi49wCnI",
        "outputId": "4c3a2115-50e3-41eb-b652-9f9d85c746cb"
      },
      "outputs": [
        {
          "name": "stdout",
          "output_type": "stream",
          "text": [
            "Các bài viết liên quan: Áp dụng điều ước quốc tế về quyền trẻ em đối với thanh niên từ đủ 16 tuổi đến dưới 18 tuổi Nhà nước áp dụng điều ước quốc tế về quyền trẻ em mà nước Cộng hòa xã hội chủ nghĩa Việt Nam là thành viên đối với thanh niên từ đủ 16 tuổi đến dưới 18 tuổi phù hợp với điều kiện của Việt Nam.\n",
            "Thanh niên Thanh niên là công dân Việt Nam từ đủ 16 tuổi đến 30 tuổi.\n",
            "Bảo vệ trẻ em trên không gian mạng 1. Trẻ em có quyền được bảo vệ, tiếp cận thông tin, tham gia hoạt động xã hội, vui chơi, giải trí, giữ bí mật cá nhân, đời sống riêng tư và các quyền khác khi tham gia trên không gian mạng. 2. Chủ quản hệ thống thông tin, doanh nghiệp cung cấp dịch vụ trên mạng viễn thông, mạng Internet, các dịch vụ gia tăng trên không gian mạng có trách nhiệm kiểm soát nội dung thông tin trên hệ thống thông tin hoặc trên dịch vụ do doanh nghiệp cung cấp để không gây nguy hại cho trẻ em, xâm phạm đến trẻ em, quyền trẻ em; ngăn chặn việc chia sẻ và xóa bỏ thông tin có nội dung gây nguy hại cho trẻ em, xâm phạm đến trẻ em, quyền trẻ em; kịp thời thông báo, phối hợp với lực lượng chuyên trách bảo vệ an ninh mạng thuộc Bộ Công an để xử lý. 3. Cơ quan, tổ chức, cá nhân tham gia hoạt động trên không gian mạng có trách nhiệm phối hợp với cơ quan có thẩm quyền trong bảo đảm quyền của trẻ em trên không gian mạng, ngăn chặn thông tin có nội dung gây nguy hại cho trẻ em theo quy định của Luật này và pháp luật về trẻ em. 4. Cơ quan, tổ chức, cha mẹ, giáo viên, người chăm sóc trẻ em và cá nhân khác liên quan có trách nhiệm bảo đảm quyền của trẻ em, bảo vệ trẻ em khi tham gia không gian mạng theo quy định của pháp luật về trẻ em. 5. Lực lượng chuyên trách bảo vệ an ninh mạng và các cơ quan chức năng có trách nhiệm áp dụng biện pháp để phòng ngừa, phát hiện, ngăn chặn, xử lý nghiêm hành vi sử dụng không gian mạng gây nguy hại cho trẻ em, xâm phạm đến trẻ em, quyền trẻ em.\n",
            "Chính sách đối với thanh niên từ đủ 16 tuổi đến dưới 18 tuổi 1. Bảo đảm hoàn thành phổ cập giáo dục theo quy định của pháp luật. 2. Ưu tiên, tạo điều kiện tham gia hoạt động văn hóa, thể dục, thể thao, vui chơi, giải trí phù hợp với khả năng và lứa tuổi để phát triển toàn diện. 3. Đào tạo, tư vấn lựa chọn nghề nghiệp, việc làm phù hợp với lứa tuổi. 4. Trang bị kiến thức, kỹ năng tự bảo vệ trước nguy cơ ảnh hưởng đến sức khỏe thể chất, tinh thần; bảo đảm các biện pháp hỗ trợ và can thiệp để thanh niên từ đủ 16 tuổi đến dưới 18 tuổi được sống an toàn, lành mạnh. 5. Bảo đảm việc thực hiện các chính sách về hình sự, hành chính, dân sự theo quy định của pháp luật. 6. Ưu tiên giải quyết nhanh chóng các vụ việc gây tổn hại đến thể chất và tinh thần của thanh niên từ đủ 16 tuổi đến dưới 18 tuổi. 7. Khuyến khích tổ chức, cá nhân phát hiện, đào tạo, bồi dưỡng năng khiếu cho thanh niên từ đủ 16 tuổi đến dưới 18 tuổi. 8. Chính phủ quy định cơ chế, chính sách và biện pháp thực hiện chính sách đối với thanh niên từ đủ 16 tuổi đến dưới 18 tuổi.\n",
            "1. Trẻ em được Nhà nước, gia đình và xã hội bảo vệ, chăm sóc và giáo dục; được tham gia vào các vấn đề về trẻ em. Nghiêm cấm xâm hại, hành hạ, ngược đãi, bỏ mặc, lạm dụng, bóc lột sức lao động và những hành vi khác vi phạm quyền trẻ em. 2. Thanh niên được Nhà nước, gia đình và xã hội tạo điều kiện học tập, lao động, giải trí, phát triển thể lực, trí tuệ, bồi dưỡng đạo đức, truyền thống dân tộc, ý thức công dân; đi đầu trong công cuộc lao động sáng tạo và bảo vệ Tổ quốc. 3. Người cao tuổi được Nhà nước, gia đình và xã hội tôn trọng, chăm sóc và phát huy vai trò trong sự nghiệp xây dựng và bảo vệ Tổ quốc.\n",
            "\n",
            "\n",
            "Câu hỏi: Nhà nước áp dụng điều ước quốc tế về quyền trẻ em đối với thanh niên trong độ tuổi nào?\n",
            "\n",
            "Lựa chọn: {'A': 'Dưới 16 tuổi', 'B': 'Đủ 16 tuổi đến dưới 18 tuổi', 'C': 'Trên 18 tuổi', 'D': 'Đủ 18 tuổi đến dưới 30 tuổi'}\n",
            "\n",
            "Lưu ý: Chỉ có 1 đáp án đúng và chỉ cần trả lời A, B, C hoặc D, không cần giải thích B \n",
            "\n"
          ]
        }
      ],
      "source": [
        "i=53\n",
        "prompt = prompt_format_data2(data[i], prompts[data[i][\"question_type\"]][-1], top_k = 5)\n",
        "prompt = prompt + 'Lưu ý: '+ instruction[data[i][\"question_type\"]]\n",
        "response = model.generate_content(prompt, generation_config=config, safety_settings=safety_settings).text\n",
        "print(prompt, response)"
      ]
    },
    {
      "cell_type": "code",
      "execution_count": 97,
      "metadata": {
        "colab": {
          "base_uri": "https://localhost:8080/"
        },
        "id": "waCMLBQDhuMX",
        "outputId": "c88ed172-e4b5-4a18-a9c3-e7a9580caba2"
      },
      "outputs": [
        {
          "name": "stdout",
          "output_type": "stream",
          "text": [
            "100\n"
          ]
        }
      ],
      "source": [
        "print(len(answer_gemini3))\n",
        "with open('/content/drive/MyDrive/Colab Notebooks/ALQAC/gemini_v3.json', 'w', encoding='utf-8') as f:\n",
        "    json.dump(answer_gemini3, f, ensure_ascii=False, indent=4)"
      ]
    },
    {
      "cell_type": "markdown",
      "metadata": {
        "id": "yacDIw7avllS"
      },
      "source": [
        "## top_k = 10"
      ]
    },
    {
      "cell_type": "code",
      "execution_count": 111,
      "metadata": {
        "colab": {
          "base_uri": "https://localhost:8080/",
          "height": 939
        },
        "id": "34MT1mtjvnhX",
        "outputId": "4d454120-8b4b-4f72-e63d-d9434575b7ae"
      },
      "outputs": [
        {
          "name": "stdout",
          "output_type": "stream",
          "text": [
            "False in data:  04-DS-16 with answer:  Đúng. \n",
            " and true:  Sai\n",
            "False in data:  04-DS-31 with answer:  Sai. \n",
            " and true:  Đúng\n",
            "False in data:  04-DS-44 with answer:  Đúng \n",
            " and true:  Sai\n",
            "False in data:  04-TN-9 with answer:  D \n",
            " and true:  C\n",
            "False in data:  04-TN-10 with answer:  D. 3/4/2025 \n",
            " and true:  D\n",
            "False in data:  04-TN-12 with answer:  Đáp án đúng là **B**. \n",
            "\n",
            "Theo đoạn văn, trong trường hợp cả cha và mẹ đều không đủ điều kiện trực tiếp nuôi con thì Tòa án quyết định giao con cho **người giám hộ** theo quy định của Bộ luật dân sự. \n",
            " and true:  B\n",
            "False in data:  04-TN-17 with answer:  B. 06 tháng \n",
            " and true:  B\n",
            "False in data:  04-TN-20 with answer:  Đáp án: **B** \n",
            " and true:  B\n",
            "False in data:  04-TN-24 with answer:  Đáp án: **A** \n",
            " and true:  A\n",
            "False in data:  04-TN-27 with answer:  Đáp án: **B** \n",
            " and true:  C\n",
            "False in data:  04-TN-28 with answer:  Đáp án **D**. \n",
            "\n",
            "Điều 125, 126, 127, 128 và 129 đều liên quan đến các trường hợp cụ thể có thời hiệu yêu cầu Tòa án tuyên bố giao dịch dân sự vô hiệu. \n",
            " and true:  D\n",
            "False in data:  04-TN-29 with answer:  Đáp án: **C** \n",
            " and true:  C\n",
            "False in data:  04-TN-30 with answer:  Đáp án đúng là **B**.\n",
            "\n",
            "Giải thích:\n",
            "\n",
            "* Theo quy định, khi thời hạn được xác định bằng ngày, ngày đầu tiên của thời hạn không được tính mà tính từ ngày tiếp theo liền kề ngày được xác định.\n",
            "* Vì vậy, thời hạn của thỏa thuận bắt đầu từ ngày 2/1/2024, không phải ngày 1/1/2024.\n",
            "\n",
            "Các lựa chọn khác đều đúng:\n",
            "\n",
            "* **A**: Đúng, thời hạn bắt đầu từ ngày 2/1/2024.\n",
            "* **C**: Đúng, thời hạn kết thúc vào cuối ngày 2/1/2024.\n",
            "* **D**: Đúng, thời hạn bắt đầu và kết thúc trong cùng một ngày. \n",
            " and true:  B\n",
            "False in data:  04-TN-37 with answer:  C. 07 ngày làm việc. \n",
            " and true:  C\n",
            "False in data:  04-TN-41 with answer:  Đáp án: **B** \n",
            " and true:  B\n",
            "False in data:  04-TL-1 with answer:  3 ngày. \n",
            " and true:  03 ngày làm việc.\n",
            "False in data:  04-TL-7 with answer:  Danh sách thành viên Hội đồng quốc phòng và an ninh bao gồm Chủ tịch, Phó Chủ tịch và các Ủy viên. \n",
            " and true:  Chủ tịch, Phó Chủ tịch và các Ủy viên.\n",
            "False in data:  04-TL-8 with answer:  Công ty A có quyền yêu cầu sửa chữa lỗi tính toán sai. Hội đồng trọng tài phải đáp ứng yêu cầu này trong thời hạn 30 ngày kể từ ngày nhận được yêu cầu của Công ty A. \n",
            " and true:  Công ty A có quyền yêu cầu sửa chữa lỗi tính toán sai trong phán quyết. Hội đồng trọng tài cần phải đáp ứng yêu cầu này trong thời hạn 30 ngày, kể từ ngày nhận được yêu cầu.\n",
            "accuracy:  82.0\n"
          ]
        }
      ],
      "source": [
        "answer_gemini4 = []\n",
        "num_true = 0\n",
        "for i in range(0, len(data)):\n",
        "    prompt = prompt_format_data2(data[i], prompts[data[i][\"question_type\"]][-1], top_k = 10)\n",
        "    prompt = prompt + 'Lưu ý: '+ instruction[data[i][\"question_type\"]]\n",
        "    response = model.generate_content(prompt, generation_config=config, safety_settings=safety_settings).text\n",
        "    if process(response) == process(data[i][\"answer\"]):\n",
        "        num_true += 1\n",
        "    else:\n",
        "        print('False in data: ', data[i][\"question_id\"], 'with answer: ', response, 'and true: ', data[i][\"answer\"])\n",
        "    answer_gemini4.append({\"question_id\": data[i]['question_id'],\n",
        "                        \"answer\": response})\n",
        "    time.sleep(5)\n",
        "print('accuracy: ', num_true/len(data) * 100)"
      ]
    },
    {
      "cell_type": "code",
      "execution_count": 112,
      "metadata": {
        "colab": {
          "base_uri": "https://localhost:8080/"
        },
        "id": "BrQXIBhCwyZJ",
        "outputId": "2669ec0d-94e3-4a46-edcd-7d9e9967584f"
      },
      "outputs": [
        {
          "name": "stdout",
          "output_type": "stream",
          "text": [
            "100\n"
          ]
        }
      ],
      "source": [
        "print(len(answer_gemini4))\n",
        "with open('/content/drive/MyDrive/Colab Notebooks/ALQAC/gemini_v4.json', 'w', encoding='utf-8') as f:\n",
        "    json.dump(answer_gemini4, f, ensure_ascii=False, indent=4)"
      ]
    },
    {
      "cell_type": "markdown",
      "metadata": {
        "id": "irzNCdiLXHJd"
      },
      "source": [
        "# GPT (đoạn này chưa code vì ko có tiền mua token)"
      ]
    },
    {
      "cell_type": "code",
      "execution_count": null,
      "metadata": {
        "id": "hwlNH4G_XHJd",
        "trusted": true
      },
      "outputs": [],
      "source": [
        "!pip install openai"
      ]
    },
    {
      "cell_type": "code",
      "execution_count": null,
      "metadata": {
        "id": "6_YabseJXHJe",
        "trusted": true
      },
      "outputs": [],
      "source": [
        "OPENAI_API_KEY = '' #get token from openai\n",
        "from openai import OpenAI\n",
        "\n",
        "client = OpenAI(\n",
        "  api_key=OPENAI_API_KEY,\n",
        ")"
      ]
    },
    {
      "cell_type": "code",
      "execution_count": null,
      "metadata": {
        "id": "yJw4c0Q5XHJe",
        "trusted": true
      },
      "outputs": [],
      "source": [
        "def completion_gpt(prompt):\n",
        "    completion = client.chat.completions.create(\n",
        "            model=\"gpt-4o\",\n",
        "            messages=[\n",
        "                {\"role\": \"user\", \"content\": prompt}\n",
        "        ], temperature=0\n",
        "    )\n",
        "    return str(completion.choices[0].message.content)"
      ]
    },
    {
      "cell_type": "code",
      "execution_count": null,
      "metadata": {
        "id": "JfFyi7Q3XHJe",
        "trusted": true
      },
      "outputs": [],
      "source": [
        "answer_gpt = []\n",
        "for i in range(0, len(data)):\n",
        "    prompt = \"\"\n",
        "    if data[i][\"question_type\"] == \"Đúng/Sai\":\n",
        "        prompt = prompt_format_data(data[i], prompts[\"truefalse\"][-1])\n",
        "    elif data[i][\"question_type\"] == \"Trắc nghiệm\":\n",
        "        prompt = prompt_format_data(data[i], prompts[\"options\"][-1])\n",
        "    else:\n",
        "        prompt = prompt_format_data(data[i], prompts[\"essay\"][-1])\n",
        "    response = completion_gpt(prompt)\n",
        "    print(data[i]['question_id'], ':', response)\n",
        "    answer_gpt.append({\"question_id\": data[i]['question_id'],\n",
        "                        \"answer\": response})\n"
      ]
    },
    {
      "cell_type": "markdown",
      "metadata": {
        "id": "uuplMVwGc11T"
      },
      "source": [
        "# Qwen"
      ]
    },
    {
      "cell_type": "code",
      "execution_count": 28,
      "metadata": {
        "colab": {
          "base_uri": "https://localhost:8080/"
        },
        "id": "MfTnL8B8c4S0",
        "outputId": "35171b18-093f-4b9d-c65e-a4a59fa3b2d7"
      },
      "outputs": [
        {
          "name": "stdout",
          "output_type": "stream",
          "text": [
            "False in data:  04-DS-6 with answer:  Đúng and true:  Sai\n",
            "False in data:  04-DS-19 with answer:  Đúng and true:  Sai\n",
            "False in data:  04-DS-45 with answer:  Sai. Du lịch sinh thái mới chính là loại hình du lịch dựa vào thiên nhiên, gắn với bản sắc văn hoá địa phương, có sự tham gia của cộng đồng dân cư, kết hợp giáo dục về bảo vệ môi trường. Du lịch cộng đồng là loại hình du lịch được phát triển trên cơ sở các giá trị văn hóa của cộng đồng, do cộng đồng dân cư quản lý, tổ chức khai thác và hưởng lợi. and true:  Sai\n",
            "False in data:  04-TN-9 with answer:  D and true:  C\n",
            "False in data:  04-TN-10 with answer:  A and true:  D\n",
            "False in data:  04-TN-27 with answer:  D and true:  C\n",
            "False in data:  04-TL-3 with answer:  30/11/2023 and true:  Trước ngày 30/11/2023.\n",
            "accuracy:  93.0\n"
          ]
        }
      ],
      "source": [
        "from huggingface_hub import InferenceClient\n",
        "\n",
        "client = InferenceClient(api_key='')\n",
        "\n",
        "answer_qwen = []\n",
        "num_true = 0\n",
        "\n",
        "for i in range(0, len(data)):\n",
        "    prompt = \"\"\n",
        "    prompt = prompt_format_data(data[i], prompts[data[i][\"question_type\"]][-1])\n",
        "    responses = client.chat_completion(\n",
        "        model=\"Qwen/Qwen2.5-72B-Instruct\",\n",
        "        messages=[{\"role\": \"system\", \"content\": instruction[data[i][\"question_type\"]]},\n",
        "                  {\"role\": \"user\", \"content\": prompt}],\n",
        "        stream=True,\n",
        "        max_tokens=10000,\n",
        "    )\n",
        "    response = \"\"\n",
        "\n",
        "    for message in responses:\n",
        "      response += message.choices[0].delta.content\n",
        "\n",
        "    # print(data[i]['question_id'], ':', response)\n",
        "    if process(response) == process(data[i][\"answer\"]):\n",
        "          num_true += 1\n",
        "    else:\n",
        "          print('False in data: ', data[i][\"question_id\"], 'with answer: ', response, 'and true: ', data[i][\"answer\"])\n",
        "    answer_qwen.append({\"question_id\": data[i]['question_id'],\n",
        "                        \"answer\": response})\n",
        "\n",
        "print('accuracy: ', num_true/len(data) * 100)\n",
        "\n",
        "  #   for message in client.chat_completion(\n",
        "  #   model=\"Qwen/Qwen2.5-72B-Instruct\",\n",
        "  #   messages=[{\"role\": \"user\", \"content\": prompt_format_data(data[3], prompts[\"truefalse\"][-1])}],\n",
        "  #   stream=True,\n",
        "  #   max_tokens=500,\n",
        "  # ):\n",
        "  #     print(message.choices[0].delta.content, end=\"\")"
      ]
    },
    {
      "cell_type": "code",
      "execution_count": 29,
      "metadata": {
        "colab": {
          "base_uri": "https://localhost:8080/"
        },
        "id": "UqfJgEv2r_qv",
        "outputId": "09e012ba-2469-4a7e-e220-3d7639bc08c7"
      },
      "outputs": [
        {
          "name": "stdout",
          "output_type": "stream",
          "text": [
            "100\n"
          ]
        }
      ],
      "source": [
        "print(len(answer_qwen))\n",
        "with open('/content/drive/MyDrive/Colab Notebooks/ALQAC/qwen_v1.json', 'w', encoding='utf-8') as f:\n",
        "    json.dump(answer_qwen, f, ensure_ascii=False, indent=4)"
      ]
    },
    {
      "cell_type": "markdown",
      "metadata": {
        "id": "tp3PbKx1W7YE"
      },
      "source": [
        "## top_k = 1"
      ]
    },
    {
      "cell_type": "code",
      "execution_count": 69,
      "metadata": {
        "colab": {
          "base_uri": "https://localhost:8080/"
        },
        "id": "2h-g1b40W9FU",
        "outputId": "b2162345-0994-4986-db93-d5a6f86c3ddc"
      },
      "outputs": [
        {
          "name": "stdout",
          "output_type": "stream",
          "text": [
            "False in data:  04-DS-9 with answer:  Đúng and true:  Sai\n",
            "False in data:  04-DS-13 with answer:  Sai and true:  Đúng\n",
            "False in data:  04-DS-25 with answer:  Sai and true:  Đúng\n",
            "False in data:  04-DS-44 with answer:  Đúng and true:  Sai\n",
            "False in data:  04-DS-45 with answer:  Đúng and true:  Sai\n",
            "False in data:  04-TN-9 with answer:  D and true:  C\n",
            "False in data:  04-TN-10 with answer:  A and true:  D\n",
            "False in data:  04-TN-27 with answer:  D and true:  C\n",
            "False in data:  04-TN-41 with answer:  A and true:  B\n",
            "False in data:  04-TL-2 with answer:  2 năm liên tục and true:  02 năm liên tiếp.\n",
            "False in data:  04-TL-3 with answer:  30/11/2023 and true:  Trước ngày 30/11/2023.\n",
            "False in data:  04-TL-8 with answer:  Công ty A có quyền yêu cầu sửa chữa lỗi tính toán sai trong phán quyết theo quy định của Điều 51 Luật Trọng tài thương mại. Hội đồng trọng tài cần phải đáp ứng yêu cầu này trong thời hạn 30 ngày, kể từ ngày nhận được yêu cầu sửa chữa. and true:  Công ty A có quyền yêu cầu sửa chữa lỗi tính toán sai trong phán quyết. Hội đồng trọng tài cần phải đáp ứng yêu cầu này trong thời hạn 30 ngày, kể từ ngày nhận được yêu cầu.\n",
            "accuracy:  88.0\n"
          ]
        }
      ],
      "source": [
        "from huggingface_hub import InferenceClient\n",
        "\n",
        "client = InferenceClient(api_key=\"\")\n",
        "\n",
        "answer_qwen2 = []\n",
        "num_true = 0\n",
        "\n",
        "for i in range(0, len(data)):\n",
        "    prompt = \"\"\n",
        "    prompt = prompt_format_data2(data[i], prompts[data[i][\"question_type\"]][-1])\n",
        "    responses = client.chat_completion(\n",
        "        model=\"Qwen/Qwen2.5-72B-Instruct\",\n",
        "        messages=[{\"role\": \"system\", \"content\": instruction[data[i][\"question_type\"]]},\n",
        "                  {\"role\": \"user\", \"content\": prompt}],\n",
        "        stream=True,\n",
        "        max_tokens=10000,\n",
        "    )\n",
        "    response = \"\"\n",
        "\n",
        "    for message in responses:\n",
        "      response += message.choices[0].delta.content\n",
        "\n",
        "    # print(data[i]['question_id'], ':', response)\n",
        "    if process(response) == process(data[i][\"answer\"]):\n",
        "          num_true += 1\n",
        "    else:\n",
        "          print('False in data: ', data[i][\"question_id\"], 'with answer: ', response, 'and true: ', data[i][\"answer\"])\n",
        "    answer_qwen2.append({\"question_id\": data[i]['question_id'],\n",
        "                        \"answer\": response})\n",
        "\n",
        "print('accuracy: ', num_true/len(data) * 100)\n",
        "\n",
        "  #   for message in client.chat_completion(\n",
        "  #   model=\"Qwen/Qwen2.5-72B-Instruct\",\n",
        "  #   messages=[{\"role\": \"user\", \"content\": prompt_format_data(data[3], prompts[\"truefalse\"][-1])}],\n",
        "  #   stream=True,\n",
        "  #   max_tokens=500,\n",
        "  # ):\n",
        "  #     print(message.choices[0].delta.content, end=\"\")"
      ]
    },
    {
      "cell_type": "code",
      "execution_count": 70,
      "metadata": {
        "colab": {
          "base_uri": "https://localhost:8080/"
        },
        "id": "fpgyCVIDXCUb",
        "outputId": "bdb669e8-f659-415c-bc0c-09258b00423f"
      },
      "outputs": [
        {
          "name": "stdout",
          "output_type": "stream",
          "text": [
            "100\n"
          ]
        }
      ],
      "source": [
        "print(len(answer_qwen2))\n",
        "with open('/content/drive/MyDrive/Colab Notebooks/ALQAC/qwen_v2.json', 'w', encoding='utf-8') as f:\n",
        "    json.dump(answer_qwen2, f, ensure_ascii=False, indent=4)"
      ]
    },
    {
      "cell_type": "markdown",
      "metadata": {
        "id": "XonQM0l1hyX4"
      },
      "source": [
        "## top_k = 5"
      ]
    },
    {
      "cell_type": "code",
      "execution_count": 98,
      "metadata": {
        "colab": {
          "base_uri": "https://localhost:8080/"
        },
        "id": "yBvlaJFWhzr9",
        "outputId": "56466222-ee7d-4a27-aab0-48dab4a0d4db"
      },
      "outputs": [
        {
          "name": "stdout",
          "output_type": "stream",
          "text": [
            "False in data:  04-DS-24 with answer:  Sai. Cộng đồng nơi người nghiện ma túy cư trú có trách nhiệm động viên, giúp đỡ người nghiện ma túy và phối hợp với cơ quan, tổ chức, đơn vị có liên quan hỗ trợ người nghiện ma túy trong quá trình cai nghiện ma túy, quản lý sau cai nghiện ma túy và hòa nhập cộng đồng, không phải xa lánh họ. and true:  Sai\n",
            "False in data:  04-DS-44 with answer:  Đúng and true:  Sai\n",
            "False in data:  04-DS-45 with answer:  Đúng and true:  Sai\n",
            "False in data:  04-TN-9 with answer:  D and true:  C\n",
            "False in data:  04-TN-10 with answer:  A and true:  D\n",
            "False in data:  04-TN-27 with answer:  D and true:  C\n",
            "False in data:  04-TL-3 with answer:  30/11/2023 and true:  Trước ngày 30/11/2023.\n",
            "accuracy:  93.0\n"
          ]
        }
      ],
      "source": [
        "from huggingface_hub import InferenceClient\n",
        "\n",
        "client = InferenceClient(api_key=\"\")\n",
        "\n",
        "answer_qwen3 = []\n",
        "num_true = 0\n",
        "\n",
        "for i in range(0, len(data)):\n",
        "    prompt = \"\"\n",
        "    prompt = prompt_format_data2(data[i], prompts[data[i][\"question_type\"]][-1], top_k = 5)\n",
        "    responses = client.chat_completion(\n",
        "        model=\"Qwen/Qwen2.5-72B-Instruct\",\n",
        "        messages=[{\"role\": \"system\", \"content\": instruction[data[i][\"question_type\"]]},\n",
        "                  {\"role\": \"user\", \"content\": prompt}],\n",
        "        stream=True,\n",
        "        max_tokens=10000,\n",
        "    )\n",
        "    response = \"\"\n",
        "\n",
        "    for message in responses:\n",
        "      response += message.choices[0].delta.content\n",
        "\n",
        "    # print(data[i]['question_id'], ':', response)\n",
        "    if process(response) == process(data[i][\"answer\"]):\n",
        "          num_true += 1\n",
        "    else:\n",
        "          print('False in data: ', data[i][\"question_id\"], 'with answer: ', response, 'and true: ', data[i][\"answer\"])\n",
        "    answer_qwen3.append({\"question_id\": data[i]['question_id'],\n",
        "                        \"answer\": response})\n",
        "\n",
        "print('accuracy: ', num_true/len(data) * 100)\n",
        "\n",
        "  #   for message in client.chat_completion(\n",
        "  #   model=\"Qwen/Qwen2.5-72B-Instruct\",\n",
        "  #   messages=[{\"role\": \"user\", \"content\": prompt_format_data(data[3], prompts[\"truefalse\"][-1])}],\n",
        "  #   stream=True,\n",
        "  #   max_tokens=500,\n",
        "  # ):\n",
        "  #     print(message.choices[0].delta.content, end=\"\")"
      ]
    },
    {
      "cell_type": "code",
      "execution_count": 99,
      "metadata": {
        "colab": {
          "base_uri": "https://localhost:8080/"
        },
        "id": "iDbHPcMWh2yF",
        "outputId": "979e46b1-6104-4473-9957-9998df19ec00"
      },
      "outputs": [
        {
          "name": "stdout",
          "output_type": "stream",
          "text": [
            "100\n"
          ]
        }
      ],
      "source": [
        "print(len(answer_qwen3))\n",
        "with open('/content/drive/MyDrive/Colab Notebooks/ALQAC/qwen_v3.json', 'w', encoding='utf-8') as f:\n",
        "    json.dump(answer_qwen3, f, ensure_ascii=False, indent=4)"
      ]
    },
    {
      "cell_type": "markdown",
      "metadata": {
        "id": "Oe9Tk6pZw5PT"
      },
      "source": [
        "## top_k = 10\n"
      ]
    },
    {
      "cell_type": "code",
      "execution_count": 114,
      "metadata": {
        "colab": {
          "base_uri": "https://localhost:8080/"
        },
        "id": "5nvyPMRCw7X2",
        "outputId": "753761c1-12b0-4635-ede7-b7be8d6748d3"
      },
      "outputs": [
        {
          "name": "stdout",
          "output_type": "stream",
          "text": [
            "False in data:  04-DS-9 with answer:  Đúng and true:  Sai\n",
            "False in data:  04-DS-44 with answer:  Đúng and true:  Sai\n",
            "False in data:  04-DS-45 with answer:  Sai. Du lịch cộng đồng được định nghĩa là loại hình du lịch được phát triển trên cơ sở các giá trị văn hóa của cộng đồng, do cộng đồng dân cư quản lý, tổ chức khai thác và hưởng lợi. Trong khi du lịch sinh thái mới là loại hình du lịch dựa vào thiên nhiên, gắn với bản sắc văn hoá địa phương, có sự tham gia của cộng đồng dân cư, kết hợp giáo dục về bảo vệ môi trường. and true:  Sai\n",
            "False in data:  04-TN-9 with answer:  D and true:  C\n",
            "False in data:  04-TN-27 with answer:  D and true:  C\n",
            "False in data:  04-TN-30 with answer:  A and true:  B\n",
            "False in data:  04-TN-41 with answer:  A and true:  B\n",
            "False in data:  04-TL-3 with answer:  30/11/2023 and true:  Trước ngày 30/11/2023.\n",
            "accuracy:  92.0\n"
          ]
        }
      ],
      "source": [
        "from huggingface_hub import InferenceClient\n",
        "\n",
        "client = InferenceClient(api_key=\"\")\n",
        "\n",
        "answer_qwen4 = []\n",
        "num_true = 0\n",
        "\n",
        "for i in range(0, len(data)):\n",
        "    prompt = \"\"\n",
        "    prompt = prompt_format_data2(data[i], prompts[data[i][\"question_type\"]][-1], top_k = 10)\n",
        "    responses = client.chat_completion(\n",
        "        model=\"Qwen/Qwen2.5-72B-Instruct\",\n",
        "        messages=[{\"role\": \"system\", \"content\": instruction[data[i][\"question_type\"]]},\n",
        "                  {\"role\": \"user\", \"content\": prompt}],\n",
        "        stream=True,\n",
        "        max_tokens=10000,\n",
        "    )\n",
        "    response = \"\"\n",
        "\n",
        "    for message in responses:\n",
        "      response += message.choices[0].delta.content\n",
        "\n",
        "    # print(data[i]['question_id'], ':', response)\n",
        "    if process(response) == process(data[i][\"answer\"]):\n",
        "          num_true += 1\n",
        "    else:\n",
        "          print('False in data: ', data[i][\"question_id\"], 'with answer: ', response, 'and true: ', data[i][\"answer\"])\n",
        "    answer_qwen4.append({\"question_id\": data[i]['question_id'],\n",
        "                        \"answer\": response})\n",
        "\n",
        "print('accuracy: ', num_true/len(data) * 100)\n",
        "\n",
        "  #   for message in client.chat_completion(\n",
        "  #   model=\"Qwen/Qwen2.5-72B-Instruct\",\n",
        "  #   messages=[{\"role\": \"user\", \"content\": prompt_format_data(data[3], prompts[\"truefalse\"][-1])}],\n",
        "  #   stream=True,\n",
        "  #   max_tokens=500,\n",
        "  # ):\n",
        "  #     print(message.choices[0].delta.content, end=\"\")"
      ]
    },
    {
      "cell_type": "code",
      "execution_count": 115,
      "metadata": {
        "colab": {
          "base_uri": "https://localhost:8080/"
        },
        "id": "H_k_q0_pxF08",
        "outputId": "ad29db3b-e674-4db4-feb8-37f7d8c2effd"
      },
      "outputs": [
        {
          "name": "stdout",
          "output_type": "stream",
          "text": [
            "100\n"
          ]
        }
      ],
      "source": [
        "print(len(answer_qwen4))\n",
        "with open('/content/drive/MyDrive/Colab Notebooks/ALQAC/qwen_v4.json', 'w', encoding='utf-8') as f:\n",
        "    json.dump(answer_qwen4, f, ensure_ascii=False, indent=4)"
      ]
    },
    {
      "cell_type": "markdown",
      "metadata": {
        "id": "XTYfruniu_fh"
      },
      "source": [
        "# Mixtral"
      ]
    },
    {
      "cell_type": "code",
      "execution_count": 30,
      "metadata": {
        "colab": {
          "base_uri": "https://localhost:8080/"
        },
        "id": "JCEKY4mA59BE",
        "outputId": "6a7cfb14-7389-4964-feca-c28b8db519e8"
      },
      "outputs": [
        {
          "name": "stdout",
          "output_type": "stream",
          "text": [
            "False in data:  04-DS-6 with answer:  Đúng and true:  Sai\n",
            "False in data:  04-DS-9 with answer:  Đúng and true:  Sai\n",
            "False in data:  04-DS-11 with answer:  Đúng and true:  Sai\n",
            "False in data:  04-DS-31 with answer:  Sai and true:  Đúng\n",
            "False in data:  04-DS-35 with answer:  Sai and true:  Đúng\n",
            "False in data:  04-DS-43 with answer:  Sai and true:  Đúng\n",
            "False in data:  04-TN-3 with answer:  B and true:  D\n",
            "False in data:  04-TN-6 with answer:  the correct answer is b đủ 16 tuổi đến dưới 18 tuổi from 16 years old to under 18 years old according to the given statement vietnam applies the international conventions on childrens rights to individuals from 16 to under 18 years old and true:  B\n",
            "False in data:  04-TN-9 with answer:  the correct answer is d 1352030\n",
            "\n",
            "people in vietnam become thanh niên youth when they turn 16 years old so in the case of person m they will be considered a youth when they turn 16 which falls on may 13 2030 and true:  C\n",
            "False in data:  04-TN-10 with answer:  C and true:  D\n",
            "False in data:  04-TN-11 with answer:  B and true:  D\n",
            "False in data:  04-TN-15 with answer:  Đúng and true:  C\n",
            "False in data:  04-TN-17 with answer:  theo quy định của pháp luật về lao động và bảo hiểm xã hội người mẹ nhờ mang thai hộ được hưởng chế độ thai sản từ thời điểm nhận con cho đến khi con đủ 6 tháng tuổi vì vậy đáp án đúng là b 6 tháng and true:  B\n",
            "False in data:  04-TN-27 with answer:  D and true:  C\n",
            "False in data:  04-TN-28 with answer:  the correct answer is b điều 125 126 127 và 128\n",
            "\n",
            "according to the civil code of vietnam the time limit for requesting the court to declare a civil transaction invalid is 2 years calculated from the date\n",
            "\n",
            "a the representative of the person who has not reached the age of majority the person with reduced legal capacity the person with difficulties in perception decisionmaking and selfcontrol the person with limited legal capacity knows or should know that the transaction has been established by themselves\n",
            "\n",
            "b the person who has been deceived or cheated knows or should know that the transaction has been established due to deception or cheating\n",
            "\n",
            "c the person who threatens or coerces to stop the threatening or coercive behavior\n",
            "\n",
            "d the person who does not perceive and control the behavior of establishing the transaction\n",
            "\n",
            "however the transaction will still be valid if the request for declaration of invalidity is not made within the prescribed time limit\n",
            "\n",
            "for the transactions specified in articles 123 and 124 of this code the time limit for requesting the court to declare the transaction invalid is not limited\n",
            "\n",
            "therefore according to the provisions of the civil code of vietnam only the transactions specified in articles 125 126 127 and 128 have a time limit for requesting the court to declare the transaction invalid and true:  D\n",
            "False in data:  04-TN-29 with answer:  A and true:  C\n",
            "False in data:  04-TN-30 with answer:  A and true:  B\n",
            "False in data:  04-TN-36 with answer:  C and true:  B\n",
            "False in data:  04-TN-37 with answer:  the correct answer is b 5 ngày làm việc and true:  C\n",
            "False in data:  04-TN-41 with answer:  A and true:  B\n",
            "False in data:  04-TN-42 with answer:  B and true:  A\n",
            "False in data:  04-TL-1 with answer:  phải báo cho bên kia biết trước ít nhất 3 ngày làm việc and true:  03 ngày làm việc.\n",
            "False in data:  04-TL-2 with answer:  viên chức bị buộc thôi việc theo điều kiện a với thời gian bị phân loại đánh giá ở mức độ không hoàn thành nhiệm vụ liên tiếp trong 2 năm and true:  02 năm liên tiếp.\n",
            "False in data:  04-TL-3 with answer:  trước 6 tháng tính đến ngày nghỉ hưu tức trước ngày 30112023 and true:  Trước ngày 30/11/2023.\n",
            "False in data:  04-TL-4 with answer:  khi tài sản chung của vợ chồng không thể chia được bằng hiện vật thì sẽ chia theo giá trị and true:  Chia theo giá trị.\n",
            "False in data:  04-TL-6 with answer:  bộ trưởng bộ giáo dục và đào tạo trong phạm vi nhiệm vụ quyền hạn của mình quy định chi tiết về chương trình sách giáo khoa giáo trình tài liệu giáo dục thường xuyên and true:  Chương trình, sách giáo khoa, giáo trình, tài liệu giáo dục thường xuyên.\n",
            "False in data:  04-TL-7 with answer:  danh sách thành viên hội đồng quốc phòng và an ninh do chủ tịch nước trình quốc hội phê chuẩn bao gồm chủ tịch phó chủ tịch và các ủy viên and true:  Chủ tịch, Phó Chủ tịch và các Ủy viên.\n",
            "False in data:  04-TL-8 with answer:  công ty a có quyền yêu cầu sửa chữa lỗi tính toán sai trong phán quyết vì đây là một lỗi rõ ràng về số liệu do nhầm lẫn hoặc tính toán sai theo điều khoản 1 hội đồng trọng tài cần phải sửa chữa trong thời hạn 30 ngày kể từ ngày nhận được yêu cầu ngày 15 tháng 6 and true:  Công ty A có quyền yêu cầu sửa chữa lỗi tính toán sai trong phán quyết. Hội đồng trọng tài cần phải đáp ứng yêu cầu này trong thời hạn 30 ngày, kể từ ngày nhận được yêu cầu.\n",
            "False in data:  04-TL-9 with answer:  trong trường hợp từ chối cấp giấy phép kinh doanh dịch vụ lữ hành nội địa cơ quan chuyên môn về du lịch cấp tỉnh cần phải thông báo bằng văn bản và nêu rõ lý do and true:  Thông báo bằng văn bản và nêu rõ lý do.\n",
            "accuracy:  71.0\n"
          ]
        }
      ],
      "source": [
        "from huggingface_hub import InferenceClient\n",
        "\n",
        "client = InferenceClient(api_key=\"\")\n",
        "\n",
        "answer_mixtral = []\n",
        "num_true = 0\n",
        "\n",
        "for i in range(0, len(data)):\n",
        "    prompt = \"\"\n",
        "    prompt = prompt_format_data(data[i], prompts[data[i][\"question_type\"]][-1])\n",
        "    responses = client.chat_completion(\n",
        "        model=\"mistralai/Mixtral-8x7B-Instruct-v0.1\",\n",
        "        messages=[{\"role\": \"system\", \"content\": \"Trả lời bằng tiếng Việt. \" + instruction[data[i][\"question_type\"]]},\n",
        "                  {\"role\": \"user\", \"content\": prompt}],\n",
        "        stream=True,\n",
        "        max_tokens=10000,\n",
        "\n",
        "    )\n",
        "    response = \"\"\n",
        "\n",
        "    for message in responses:\n",
        "      response += message.choices[0].delta.content\n",
        "\n",
        "    # print(data[i]['question_id'], ':', response)\n",
        "    response = process(response)\n",
        "    if response.startswith('câu trả lời'):\n",
        "        response = response.split('câu trả lời')[1].strip()\n",
        "    if response.startswith('đúng'):\n",
        "            response = 'Đúng'\n",
        "    elif response.startswith('sai'):\n",
        "            response = 'Sai'\n",
        "    elif data[i][\"question_type\"] == 'Trắc nghiệm':\n",
        "            if response.startswith('a'):\n",
        "                response = 'A'\n",
        "            elif response.startswith('b'):\n",
        "                response = 'B'\n",
        "            elif response.startswith('c'):\n",
        "                response = 'C'\n",
        "            elif response.startswith('d'):\n",
        "                response = 'D'\n",
        "    if process(response) == process(data[i][\"answer\"]):\n",
        "          num_true += 1\n",
        "    else:\n",
        "          print('False in data: ', data[i][\"question_id\"], 'with answer: ', response, 'and true: ', data[i][\"answer\"])\n",
        "    answer_mixtral.append({\"question_id\": data[i]['question_id'],\n",
        "                        \"answer\": response})\n",
        "\n",
        "print('accuracy: ', num_true/len(data) * 100)\n"
      ]
    },
    {
      "cell_type": "code",
      "execution_count": 31,
      "metadata": {
        "id": "84CkVbRGONl_"
      },
      "outputs": [],
      "source": [
        "with open('/content/drive/MyDrive/Colab Notebooks/ALQAC/mixtral_v1.json', 'w', encoding='utf-8') as f:\n",
        "    json.dump(answer_mixtral, f, ensure_ascii=False, indent=4)"
      ]
    },
    {
      "cell_type": "markdown",
      "metadata": {
        "id": "NgVIMxYxXHJe"
      },
      "source": [
        "# Post processing"
      ]
    },
    {
      "cell_type": "code",
      "execution_count": null,
      "metadata": {
        "id": "DCZ8VZR7XHJe",
        "trusted": true
      },
      "outputs": [],
      "source": [
        "# get answer from answer format\n",
        "\n",
        "def get_answer(model_answer_preprocess):\n",
        "    assert len(model_answer_preprocess) == len(data)\n",
        "    for i in range(len(data)):\n",
        "        type_question = data[i]['question_type']\n",
        "        if type_question == 'Đúng/Sai':\n",
        "            if model_answer_preprocess[i][\"answer\"].lower().__contains__('đúng'):\n",
        "                # data[i]['answer'] = \"Đúng\"\n",
        "                model_answer_preprocess[i][\"answer\"] = 'Đúng'\n",
        "            elif model_answer_preprocess[i][\"answer\"].lower().__contains__('sai'):\n",
        "                # data[i]['answer'] = \"Sai\"\n",
        "                model_answer_preprocess[i][\"answer\"] = 'Sai'\n",
        "            else:\n",
        "                print(model_answer_preprocess[i][\"answer\"])\n",
        "        elif type_question == 'Trắc nghiệm':\n",
        "            if model_answer_preprocess[i][\"answer\"].lower()[0] == 'a':\n",
        "                # data[i]['answer'] = 'A'\n",
        "                model_answer_preprocess[i][\"answer\"] = 'A'\n",
        "            elif model_answer_preprocess[i][\"answer\"].lower()[0] == 'b':\n",
        "                # data[i]['answer'] = 'B'\n",
        "                model_answer_preprocess[i][\"answer\"] = 'B'\n",
        "            elif model_answer_preprocess[i][\"answer\"].lower()[0] == 'c':\n",
        "                # data[i]['answer'] = 'C'\n",
        "                model_answer_preprocess[i][\"answer\"] = 'C'\n",
        "            elif model_answer_preprocess[i][\"answer\"].lower()[0] == 'd':\n",
        "                # data[i]['answer'] = 'D'\n",
        "                model_answer_preprocess[i][\"answer\"] = 'D'\n",
        "            else:\n",
        "                print(model_answer_preprocess[i][\"answer\"])\n",
        "                raise ValueError('Answer not found')\n",
        "\n",
        "        elif type_question == 'Tự luận':\n",
        "            # data[i]['answer'] = model_answer_preprocess[i]\n",
        "            model_answer_preprocess[i][\"answer\"] = model_answer_preprocess[i][\"answer\"]\n",
        "\n",
        "    return model_answer_preprocess\n",
        "\n",
        "answer_llama = get_answer(answer_llama)\n",
        "answer_gemini = get_answer(answer_gemini)\n",
        "answer_gpt = get_answer(answer_gpt)"
      ]
    },
    {
      "cell_type": "code",
      "execution_count": null,
      "metadata": {
        "id": "bVxezgI7XHJe",
        "trusted": true
      },
      "outputs": [],
      "source": [
        "answer_gpt"
      ]
    },
    {
      "cell_type": "markdown",
      "metadata": {
        "id": "Ylv7OODuXHJf"
      },
      "source": [
        "# Save to array"
      ]
    },
    {
      "cell_type": "code",
      "execution_count": 65,
      "metadata": {
        "colab": {
          "base_uri": "https://localhost:8080/"
        },
        "id": "yisuTAWvXHJf",
        "outputId": "59acbfa4-76ed-40d4-c0f1-7a23dbbf0ea1",
        "trusted": true
      },
      "outputs": [
        {
          "name": "stdout",
          "output_type": "stream",
          "text": [
            "100\n"
          ]
        }
      ],
      "source": [
        "print(len(answer_llama2))\n",
        "with open('/content/drive/MyDrive/Colab Notebooks/ALQAC/llama_v1.json', 'w', encoding='utf-8') as f:\n",
        "    json.dump(answer_llama, f, ensure_ascii=False, indent=4)"
      ]
    },
    {
      "cell_type": "code",
      "execution_count": null,
      "metadata": {
        "id": "PzdH6QbMXHJf",
        "trusted": true
      },
      "outputs": [],
      "source": [
        "print(len(answer_gpt))\n",
        "with open('gpt_v1.json', 'w', encoding='utf-8') as f:\n",
        "    json.dump(answer_gpt, f, ensure_ascii=False, indent=4)"
      ]
    },
    {
      "cell_type": "markdown",
      "metadata": {
        "id": "jP8PmgayXHJf"
      },
      "source": [
        "# Ensemble"
      ]
    },
    {
      "cell_type": "code",
      "execution_count": null,
      "metadata": {
        "id": "xcxkxmDaQF8_"
      },
      "outputs": [],
      "source": []
    },
    {
      "cell_type": "code",
      "execution_count": 101,
      "metadata": {
        "id": "WlOIPQOWXHJf",
        "trusted": true
      },
      "outputs": [],
      "source": [
        "with open('/content/drive/MyDrive/Colab Notebooks/ALQAC/llama_v3.json') as f:\n",
        "    model_1 = json.load(f)\n",
        "with open('/content/drive/MyDrive/Colab Notebooks/ALQAC/gemini_v3.json') as f:\n",
        "    model_2 = json.load(f)\n",
        "with open('/content/drive/MyDrive/Colab Notebooks/ALQAC/qwen_v3.json') as f:\n",
        "    model_3 = json.load(f)\n",
        "for i in range(len(model_1)):\n",
        "    model_1[i][\"answer\"] = process(model_1[i][\"answer\"])\n",
        "    model_2[i][\"answer\"] = process(model_2[i][\"answer\"])\n",
        "    model_3[i][\"answer\"] = process(model_3[i][\"answer\"])\n",
        "# If you want to ensemble more result files, the code to read additional files is here."
      ]
    },
    {
      "cell_type": "code",
      "execution_count": 102,
      "metadata": {
        "id": "qvZnfxpyXHJf",
        "trusted": true
      },
      "outputs": [],
      "source": [
        "list_answers = [model_1, model_2, model_3]"
      ]
    },
    {
      "cell_type": "code",
      "execution_count": 103,
      "metadata": {
        "colab": {
          "base_uri": "https://localhost:8080/"
        },
        "id": "aD6j6DvEQRYo",
        "outputId": "1e78dc99-7a41-44ce-d9e6-e862d7240a83"
      },
      "outputs": [
        {
          "name": "stdout",
          "output_type": "stream",
          "text": [
            "{'question_id': '04-TN-7', 'answer': 'a'}\n"
          ]
        }
      ],
      "source": [
        "print(model_1[54])"
      ]
    },
    {
      "cell_type": "code",
      "execution_count": 104,
      "metadata": {
        "colab": {
          "base_uri": "https://localhost:8080/"
        },
        "id": "y1GJWyqCXHJf",
        "outputId": "b1c83eb7-4710-48b9-8f10-8e7be2314d36",
        "trusted": true
      },
      "outputs": [
        {
          "data": {
            "text/plain": [
              "(100, 100)"
            ]
          },
          "execution_count": 104,
          "metadata": {},
          "output_type": "execute_result"
        }
      ],
      "source": [
        "new_answers = []\n",
        "for i in range(len(list_answers[0])):\n",
        "    if \"TL\" in list_answers[0][i][\"question_id\"]:\n",
        "        new_answers.append({\"question_id\": list_answers[0][i][\"question_id\"],\n",
        "                          \"answer\": list_answers[2][i][\"answer\"]})\n",
        "    elif \"DS\" in list_answers[0][i][\"question_id\"]:\n",
        "        answer = [list_answers[j][i][\"answer\"] for j in range(len(list_answers))]\n",
        "        num_y = answer.count('đúng')\n",
        "        num_n = answer.count('sai')\n",
        "        if num_y > num_n:\n",
        "            new_answers.append({\"question_id\": list_answers[0][i][\"question_id\"],\n",
        "                          \"answer\": 'đúng'})\n",
        "        else:\n",
        "            new_answers.append({\"question_id\": list_answers[0][i][\"question_id\"],\n",
        "                          \"answer\": 'sai'})\n",
        "    else:\n",
        "        answer = [list_answers[j][i][\"answer\"] for j in range(len(list_answers))]\n",
        "        num_A = answer.count('a')\n",
        "        num_B = answer.count('b')\n",
        "        num_C = answer.count('c')\n",
        "        num_D = answer.count('d')\n",
        "        mx = max([num_A, num_B, num_C, num_D])\n",
        "        if mx == num_A:\n",
        "            new_answers.append({\"question_id\": list_answers[0][i][\"question_id\"],\n",
        "                          \"answer\": 'A'})\n",
        "        elif mx == num_B:\n",
        "            new_answers.append({\"question_id\": list_answers[0][i][\"question_id\"],\n",
        "                          \"answer\": 'B'})\n",
        "        elif mx == num_C:\n",
        "            new_answers.append({\"question_id\": list_answers[0][i][\"question_id\"],\n",
        "                          \"answer\": 'C'})\n",
        "        elif mx == num_D:\n",
        "            new_answers.append({\"question_id\": list_answers[0][i][\"question_id\"],\n",
        "                          \"answer\": 'D'})\n",
        "len(list_answers[0]), len(new_answers)"
      ]
    },
    {
      "cell_type": "code",
      "execution_count": 105,
      "metadata": {
        "id": "J1h8eacNXHJf",
        "trusted": true
      },
      "outputs": [],
      "source": [
        "with open('/content/drive/MyDrive/Colab Notebooks/ALQAC/ensemble3.json', 'w', encoding='utf-8') as f:\n",
        "    json.dump(new_answers, f, ensure_ascii=False, indent=4)"
      ]
    },
    {
      "cell_type": "code",
      "execution_count": 80,
      "metadata": {
        "colab": {
          "base_uri": "https://localhost:8080/"
        },
        "id": "zqLCKoAQQz22",
        "outputId": "3e2eeeb6-a587-4fa6-b579-a6968247d138"
      },
      "outputs": [
        {
          "name": "stdout",
          "output_type": "stream",
          "text": [
            "04-DS-9 đúng Sai\n",
            "04-DS-13 sai Đúng\n",
            "04-DS-25 sai Đúng\n",
            "04-TN-7 D A\n",
            "04-TN-9 D C\n",
            "04-TN-10 A D\n",
            "04-TN-41 A B\n",
            "04-TL-2 2 năm liên tục 02 năm liên tiếp.\n",
            "04-TL-3 30112023 Trước ngày 30/11/2023.\n",
            "04-TL-8 công ty a có quyền yêu cầu sửa chữa lỗi tính toán sai trong phán quyết theo quy định của điều 51 luật trọng tài thương mại hội đồng trọng tài cần phải đáp ứng yêu cầu này trong thời hạn 30 ngày kể từ ngày nhận được yêu cầu sửa chữa Công ty A có quyền yêu cầu sửa chữa lỗi tính toán sai trong phán quyết. Hội đồng trọng tài cần phải đáp ứng yêu cầu này trong thời hạn 30 ngày, kể từ ngày nhận được yêu cầu.\n",
            "accuracy:  90\n"
          ]
        }
      ],
      "source": [
        "num_true=0\n",
        "for i in range(len(new_answers)):\n",
        "    response = new_answers[i][\"answer\"]\n",
        "    true_response = data[i][\"answer\"]\n",
        "    if process(response) != process(true_response):\n",
        "        print(new_answers[i]['question_id'], response, true_response)\n",
        "    else:\n",
        "      num_true += 1\n",
        "print('accuracy: ', num_true)"
      ]
    },
    {
      "cell_type": "markdown",
      "metadata": {
        "id": "XLyrN0kQcsHE"
      },
      "source": [
        "## top_k=5"
      ]
    },
    {
      "cell_type": "code",
      "execution_count": 106,
      "metadata": {
        "colab": {
          "base_uri": "https://localhost:8080/"
        },
        "id": "JgTEOyJ6ct-N",
        "outputId": "a093ad20-213b-4c7a-a966-6296fa64c54e"
      },
      "outputs": [
        {
          "name": "stdout",
          "output_type": "stream",
          "text": [
            "04-DS-44 đúng Sai\n",
            "04-TN-9 D C\n",
            "04-TN-10 A D\n",
            "04-TN-27 D C\n",
            "04-TL-3 30112023 Trước ngày 30/11/2023.\n",
            "accuracy:  95\n"
          ]
        }
      ],
      "source": [
        "num_true=0\n",
        "for i in range(len(new_answers)):\n",
        "    response = new_answers[i][\"answer\"]\n",
        "    true_response = data[i][\"answer\"]\n",
        "    if process(response) != process(true_response):\n",
        "        print(new_answers[i]['question_id'], response, true_response)\n",
        "    else:\n",
        "      num_true += 1\n",
        "print('accuracy: ', num_true)"
      ]
    }
  ],
  "metadata": {
    "colab": {
      "collapsed_sections": [
        "irzNCdiLXHJd",
        "XTYfruniu_fh",
        "NgVIMxYxXHJe"
      ],
      "provenance": []
    },
    "kaggle": {
      "accelerator": "gpu",
      "dataSources": [
        {
          "datasetId": 5324275,
          "sourceId": 8878602,
          "sourceType": "datasetVersion"
        },
        {
          "datasetId": 5369854,
          "sourceId": 8927176,
          "sourceType": "datasetVersion"
        },
        {
          "modelInstanceId": 28083,
          "sourceId": 33551,
          "sourceType": "modelInstanceVersion"
        }
      ],
      "dockerImageVersionId": 30699,
      "isGpuEnabled": true,
      "isInternetEnabled": true,
      "language": "python",
      "sourceType": "notebook"
    },
    "kernelspec": {
      "display_name": "Python 3",
      "language": "python",
      "name": "python3"
    },
    "language_info": {
      "codemirror_mode": {
        "name": "ipython",
        "version": 3
      },
      "file_extension": ".py",
      "mimetype": "text/x-python",
      "name": "python",
      "nbconvert_exporter": "python",
      "pygments_lexer": "ipython3",
      "version": "3.10.13"
    }
  },
  "nbformat": 4,
  "nbformat_minor": 0
}
